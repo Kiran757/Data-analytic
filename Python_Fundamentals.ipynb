{
 "cells": [
  {
   "cell_type": "markdown",
   "id": "9d7db020",
   "metadata": {},
   "source": [
    "# This is my first coding."
   ]
  },
  {
   "cell_type": "code",
   "execution_count": 120,
   "id": "9316562b",
   "metadata": {},
   "outputs": [
    {
     "name": "stdout",
     "output_type": "stream",
     "text": [
      "Hello World\n"
     ]
    }
   ],
   "source": [
    "# Printing Hello world\n",
    "print(\"Hello World\")"
   ]
  },
  {
   "cell_type": "code",
   "execution_count": 121,
   "id": "851ddc7d",
   "metadata": {},
   "outputs": [
    {
     "name": "stdout",
     "output_type": "stream",
     "text": [
      "I love python\n"
     ]
    }
   ],
   "source": [
    "'''This multiple line comment'''\n",
    "print(\"I love python\")"
   ]
  },
  {
   "cell_type": "code",
   "execution_count": 122,
   "id": "70069d97",
   "metadata": {},
   "outputs": [
    {
     "name": "stdout",
     "output_type": "stream",
     "text": [
      "2\n"
     ]
    }
   ],
   "source": [
    "x = 2 # Declearing variable\n",
    "X = 5\n",
    "print(x)"
   ]
  },
  {
   "cell_type": "code",
   "execution_count": 123,
   "id": "685b045d",
   "metadata": {},
   "outputs": [
    {
     "name": "stdout",
     "output_type": "stream",
     "text": [
      "5\n"
     ]
    }
   ],
   "source": [
    "print(X)"
   ]
  },
  {
   "cell_type": "code",
   "execution_count": 124,
   "id": "2dcf8351",
   "metadata": {},
   "outputs": [
    {
     "name": "stdout",
     "output_type": "stream",
     "text": [
      "my name is  Kiran and last name is Paudel\n"
     ]
    }
   ],
   "source": [
    "first_name = \"Kiran\" # Assigning string to a variable\n",
    "last_name = \"Paudel\"\n",
    "print(\"my name is \",first_name,\"and last name is\",last_name )\n"
   ]
  },
  {
   "cell_type": "code",
   "execution_count": 125,
   "id": "3b55aa55",
   "metadata": {},
   "outputs": [],
   "source": [
    "_age = 25\n",
    "name7 = \"Sarah\"\n",
    "n7ame = \"Joshnson\"\n",
    "country = \"Nepal\"\n",
    "Country = \"USA\""
   ]
  },
  {
   "cell_type": "code",
   "execution_count": 126,
   "id": "7029ff35",
   "metadata": {},
   "outputs": [],
   "source": [
    "# 7name = \"Ram\"# varaible name starting from numbers are not accepted"
   ]
  },
  {
   "cell_type": "code",
   "execution_count": 127,
   "id": "11d36ad7",
   "metadata": {},
   "outputs": [
    {
     "name": "stdout",
     "output_type": "stream",
     "text": [
      "_age: 25\n",
      "name7 Sarah\n",
      "n7ame: Joshnson\n",
      "country: Nepal\n",
      "Country: USA\n"
     ]
    }
   ],
   "source": [
    "print(\"_age:\",_age)\n",
    "print(\"name7\",name7)\n",
    "print(\"n7ame:\",n7ame)\n",
    "print(\"country:\",country)\n",
    "print(\"Country:\",Country)\n"
   ]
  },
  {
   "cell_type": "code",
   "execution_count": 128,
   "id": "af1a8716",
   "metadata": {},
   "outputs": [
    {
     "name": "stdout",
     "output_type": "stream",
     "text": [
      "my name is  Kiran and my age is age1 24\n"
     ]
    }
   ],
   "source": [
    "name1 = \"Kiran\"\n",
    "age1 = 24\n",
    "print(\"my name is \",name1 ,\"and my age is age1\", age1)\n"
   ]
  },
  {
   "cell_type": "code",
   "execution_count": 129,
   "id": "db1ded75",
   "metadata": {},
   "outputs": [
    {
     "data": {
      "text/plain": [
       "str"
      ]
     },
     "execution_count": 129,
     "metadata": {},
     "output_type": "execute_result"
    }
   ],
   "source": [
    "type(name1)"
   ]
  },
  {
   "cell_type": "code",
   "execution_count": 130,
   "id": "b1917570",
   "metadata": {},
   "outputs": [
    {
     "data": {
      "text/plain": [
       "int"
      ]
     },
     "execution_count": 130,
     "metadata": {},
     "output_type": "execute_result"
    }
   ],
   "source": [
    "type(age1)"
   ]
  },
  {
   "cell_type": "code",
   "execution_count": 131,
   "id": "dfe8abd7",
   "metadata": {},
   "outputs": [
    {
     "data": {
      "text/plain": [
       "list"
      ]
     },
     "execution_count": 131,
     "metadata": {},
     "output_type": "execute_result"
    }
   ],
   "source": [
    "ls = [1 ,24,5 ]\n",
    "type(ls)"
   ]
  },
  {
   "cell_type": "code",
   "execution_count": 132,
   "id": "750f8b4b",
   "metadata": {},
   "outputs": [
    {
     "data": {
      "text/plain": [
       "(2, '45', 2.0)"
      ]
     },
     "execution_count": 132,
     "metadata": {},
     "output_type": "execute_result"
    }
   ],
   "source": [
    "x = int(2.45) # forcing to change from float to integer\n",
    "y = str(45)# changing int to string\n",
    "z = float(2)# changing to float\n",
    "x,y,z"
   ]
  },
  {
   "cell_type": "markdown",
   "id": "ec50a315",
   "metadata": {},
   "source": [
    "# Arthimetic Operation"
   ]
  },
  {
   "cell_type": "code",
   "execution_count": 133,
   "id": "a8d5cc67",
   "metadata": {},
   "outputs": [
    {
     "data": {
      "text/plain": [
       "4"
      ]
     },
     "execution_count": 133,
     "metadata": {},
     "output_type": "execute_result"
    }
   ],
   "source": [
    "2 + 2 # addition"
   ]
  },
  {
   "cell_type": "code",
   "execution_count": 134,
   "id": "e7353163",
   "metadata": {},
   "outputs": [
    {
     "data": {
      "text/plain": [
       "0"
      ]
     },
     "execution_count": 134,
     "metadata": {},
     "output_type": "execute_result"
    }
   ],
   "source": [
    "2 - 2 # substraction"
   ]
  },
  {
   "cell_type": "code",
   "execution_count": 135,
   "id": "5a3a571e",
   "metadata": {},
   "outputs": [
    {
     "data": {
      "text/plain": [
       "6"
      ]
     },
     "execution_count": 135,
     "metadata": {},
     "output_type": "execute_result"
    }
   ],
   "source": [
    "2 * 3 # multiplication"
   ]
  },
  {
   "cell_type": "code",
   "execution_count": 136,
   "id": "1fa9123a",
   "metadata": {},
   "outputs": [
    {
     "data": {
      "text/plain": [
       "1.0"
      ]
     },
     "execution_count": 136,
     "metadata": {},
     "output_type": "execute_result"
    }
   ],
   "source": [
    "3 / 3 # division"
   ]
  },
  {
   "cell_type": "code",
   "execution_count": 137,
   "id": "363dfe0c",
   "metadata": {},
   "outputs": [
    {
     "data": {
      "text/plain": [
       "4"
      ]
     },
     "execution_count": 137,
     "metadata": {},
     "output_type": "execute_result"
    }
   ],
   "source": [
    "2 ** 2 # 2 to the powert 3"
   ]
  },
  {
   "cell_type": "code",
   "execution_count": 138,
   "id": "2a782b8c",
   "metadata": {},
   "outputs": [
    {
     "data": {
      "text/plain": [
       "1"
      ]
     },
     "execution_count": 138,
     "metadata": {},
     "output_type": "execute_result"
    }
   ],
   "source": [
    "5 % 2 # remainder"
   ]
  },
  {
   "cell_type": "code",
   "execution_count": 139,
   "id": "b6e22eb3",
   "metadata": {},
   "outputs": [
    {
     "data": {
      "text/plain": [
       "2"
      ]
     },
     "execution_count": 139,
     "metadata": {},
     "output_type": "execute_result"
    }
   ],
   "source": [
    "5 % 3 # floor division"
   ]
  },
  {
   "cell_type": "markdown",
   "id": "bd1dcbb8",
   "metadata": {},
   "source": [
    "# Exercise"
   ]
  },
  {
   "cell_type": "code",
   "execution_count": 140,
   "id": "aa93106e",
   "metadata": {},
   "outputs": [
    {
     "data": {
      "text/plain": [
       "8.166666666666666"
      ]
     },
     "execution_count": 140,
     "metadata": {},
     "output_type": "execute_result"
    }
   ],
   "source": [
    " x = 7 * (3 + 8 -4)/6\n",
    "x"
   ]
  },
  {
   "cell_type": "code",
   "execution_count": 141,
   "id": "ab0c6c0c",
   "metadata": {},
   "outputs": [
    {
     "data": {
      "text/plain": [
       "0.16666666666666607"
      ]
     },
     "execution_count": 141,
     "metadata": {},
     "output_type": "execute_result"
    }
   ],
   "source": [
    "y = (x)% 2\n",
    "y"
   ]
  },
  {
   "cell_type": "code",
   "execution_count": 142,
   "id": "03f65e2a",
   "metadata": {},
   "outputs": [
    {
     "data": {
      "text/plain": [
       "0.00462962962962958"
      ]
     },
     "execution_count": 142,
     "metadata": {},
     "output_type": "execute_result"
    }
   ],
   "source": [
    "z = y ** 3\n",
    "z"
   ]
  },
  {
   "cell_type": "code",
   "execution_count": 143,
   "id": "17113fd5",
   "metadata": {},
   "outputs": [
    {
     "data": {
      "text/plain": [
       "0.0"
      ]
     },
     "execution_count": 143,
     "metadata": {},
     "output_type": "execute_result"
    }
   ],
   "source": [
    "k = z//3\n",
    "k"
   ]
  },
  {
   "cell_type": "code",
   "execution_count": 144,
   "id": "e6c8d1bf",
   "metadata": {},
   "outputs": [
    {
     "data": {
      "text/plain": [
       "3"
      ]
     },
     "execution_count": 144,
     "metadata": {},
     "output_type": "execute_result"
    }
   ],
   "source": [
    "x = 3\n",
    "x"
   ]
  },
  {
   "cell_type": "code",
   "execution_count": 145,
   "id": "49ed6617",
   "metadata": {},
   "outputs": [
    {
     "data": {
      "text/plain": [
       "8"
      ]
     },
     "execution_count": 145,
     "metadata": {},
     "output_type": "execute_result"
    }
   ],
   "source": [
    "x += 5 # its adds 5 in x\n",
    "x"
   ]
  },
  {
   "cell_type": "code",
   "execution_count": 146,
   "id": "c133eefc",
   "metadata": {},
   "outputs": [
    {
     "data": {
      "text/plain": [
       "40"
      ]
     },
     "execution_count": 146,
     "metadata": {},
     "output_type": "execute_result"
    }
   ],
   "source": [
    "x *= 5\n",
    "x"
   ]
  },
  {
   "cell_type": "markdown",
   "id": "c923378c",
   "metadata": {},
   "source": [
    "# comparision operation"
   ]
  },
  {
   "cell_type": "code",
   "execution_count": 147,
   "id": "d430be42",
   "metadata": {},
   "outputs": [
    {
     "data": {
      "text/plain": [
       "False"
      ]
     },
     "execution_count": 147,
     "metadata": {},
     "output_type": "execute_result"
    }
   ],
   "source": [
    "2 == 3"
   ]
  },
  {
   "cell_type": "code",
   "execution_count": 148,
   "id": "1a7539fc",
   "metadata": {},
   "outputs": [
    {
     "data": {
      "text/plain": [
       "True"
      ]
     },
     "execution_count": 148,
     "metadata": {},
     "output_type": "execute_result"
    }
   ],
   "source": [
    "2 != 3"
   ]
  },
  {
   "cell_type": "code",
   "execution_count": 149,
   "id": "84f600f5",
   "metadata": {},
   "outputs": [
    {
     "data": {
      "text/plain": [
       "True"
      ]
     },
     "execution_count": 149,
     "metadata": {},
     "output_type": "execute_result"
    }
   ],
   "source": [
    "2 < 3"
   ]
  },
  {
   "cell_type": "code",
   "execution_count": 150,
   "id": "5b958fa6",
   "metadata": {},
   "outputs": [
    {
     "data": {
      "text/plain": [
       "True"
      ]
     },
     "execution_count": 150,
     "metadata": {},
     "output_type": "execute_result"
    }
   ],
   "source": [
    "3 <= 3"
   ]
  },
  {
   "cell_type": "markdown",
   "id": "863718a7",
   "metadata": {},
   "source": [
    "# Logical Operation"
   ]
  },
  {
   "cell_type": "code",
   "execution_count": 151,
   "id": "ffba5b9e",
   "metadata": {},
   "outputs": [
    {
     "data": {
      "text/plain": [
       "True"
      ]
     },
     "execution_count": 151,
     "metadata": {},
     "output_type": "execute_result"
    }
   ],
   "source": [
    "2 > 1 and 3 < 5"
   ]
  },
  {
   "cell_type": "code",
   "execution_count": 152,
   "id": "d04339ed",
   "metadata": {},
   "outputs": [
    {
     "data": {
      "text/plain": [
       "True"
      ]
     },
     "execution_count": 152,
     "metadata": {},
     "output_type": "execute_result"
    }
   ],
   "source": [
    "2 < 3 or 5 < 3"
   ]
  },
  {
   "cell_type": "code",
   "execution_count": 153,
   "id": "1f182ea6",
   "metadata": {},
   "outputs": [
    {
     "data": {
      "text/plain": [
       "False"
      ]
     },
     "execution_count": 153,
     "metadata": {},
     "output_type": "execute_result"
    }
   ],
   "source": [
    "2 < 3 and 5 < 3"
   ]
  },
  {
   "cell_type": "code",
   "execution_count": 154,
   "id": "364b7faa",
   "metadata": {},
   "outputs": [
    {
     "data": {
      "text/plain": [
       "True"
      ]
     },
     "execution_count": 154,
     "metadata": {},
     "output_type": "execute_result"
    }
   ],
   "source": [
    "2 > 1 or 3 < 5"
   ]
  },
  {
   "cell_type": "markdown",
   "id": "812fa2bf",
   "metadata": {},
   "source": [
    "# logical opertator procedure"
   ]
  },
  {
   "cell_type": "code",
   "execution_count": 155,
   "id": "09d1394f",
   "metadata": {},
   "outputs": [
    {
     "data": {
      "text/plain": [
       "False"
      ]
     },
     "execution_count": 155,
     "metadata": {},
     "output_type": "execute_result"
    }
   ],
   "source": [
    "False or True  and not True"
   ]
  },
  {
   "cell_type": "markdown",
   "id": "2b5e6420",
   "metadata": {},
   "source": [
    "# Identity Operators "
   ]
  },
  {
   "cell_type": "code",
   "execution_count": 156,
   "id": "15b8de66",
   "metadata": {},
   "outputs": [
    {
     "data": {
      "text/plain": [
       "True"
      ]
     },
     "execution_count": 156,
     "metadata": {},
     "output_type": "execute_result"
    }
   ],
   "source": [
    "x = 2\n",
    "type(x) is int "
   ]
  },
  {
   "cell_type": "code",
   "execution_count": 157,
   "id": "611efdb0",
   "metadata": {},
   "outputs": [
    {
     "data": {
      "text/plain": [
       "False"
      ]
     },
     "execution_count": 157,
     "metadata": {},
     "output_type": "execute_result"
    }
   ],
   "source": [
    "y = 2.32\n",
    "type(y) is int"
   ]
  },
  {
   "cell_type": "code",
   "execution_count": 158,
   "id": "99167a66",
   "metadata": {},
   "outputs": [
    {
     "data": {
      "text/plain": [
       "True"
      ]
     },
     "execution_count": 158,
     "metadata": {},
     "output_type": "execute_result"
    }
   ],
   "source": [
    "type(y) is not int "
   ]
  },
  {
   "cell_type": "code",
   "execution_count": 159,
   "id": "096ce14f",
   "metadata": {},
   "outputs": [
    {
     "data": {
      "text/plain": [
       "True"
      ]
     },
     "execution_count": 159,
     "metadata": {},
     "output_type": "execute_result"
    }
   ],
   "source": [
    "type(y) is float"
   ]
  },
  {
   "cell_type": "markdown",
   "id": "d45adeef",
   "metadata": {},
   "source": [
    "# membership Operation"
   ]
  },
  {
   "cell_type": "code",
   "execution_count": 160,
   "id": "e2d991a9",
   "metadata": {},
   "outputs": [
    {
     "data": {
      "text/plain": [
       "True"
      ]
     },
     "execution_count": 160,
     "metadata": {},
     "output_type": "execute_result"
    }
   ],
   "source": [
    "'h' in 'hello'"
   ]
  },
  {
   "cell_type": "code",
   "execution_count": 161,
   "id": "3d688d1f",
   "metadata": {},
   "outputs": [
    {
     "data": {
      "text/plain": [
       "True"
      ]
     },
     "execution_count": 161,
     "metadata": {},
     "output_type": "execute_result"
    }
   ],
   "source": [
    "'llo' in 'hello'"
   ]
  },
  {
   "cell_type": "code",
   "execution_count": 162,
   "id": "31057227",
   "metadata": {},
   "outputs": [
    {
     "data": {
      "text/plain": [
       "False"
      ]
     },
     "execution_count": 162,
     "metadata": {},
     "output_type": "execute_result"
    }
   ],
   "source": [
    "'m' in 'hello'"
   ]
  },
  {
   "cell_type": "markdown",
   "id": "ab4c9cab",
   "metadata": {},
   "source": [
    "# Bitwise Operators"
   ]
  },
  {
   "cell_type": "code",
   "execution_count": 163,
   "id": "d3f01efe",
   "metadata": {},
   "outputs": [
    {
     "data": {
      "text/plain": [
       "2"
      ]
     },
     "execution_count": 163,
     "metadata": {},
     "output_type": "execute_result"
    }
   ],
   "source": [
    " 2 & 3"
   ]
  },
  {
   "cell_type": "code",
   "execution_count": 164,
   "id": "bc99c0f5",
   "metadata": {},
   "outputs": [
    {
     "data": {
      "text/plain": [
       "3"
      ]
     },
     "execution_count": 164,
     "metadata": {},
     "output_type": "execute_result"
    }
   ],
   "source": [
    "2 | 3"
   ]
  },
  {
   "cell_type": "markdown",
   "id": "890807c2",
   "metadata": {},
   "source": [
    "# Python List"
   ]
  },
  {
   "cell_type": "code",
   "execution_count": 165,
   "id": "952b8921",
   "metadata": {},
   "outputs": [
    {
     "name": "stdout",
     "output_type": "stream",
     "text": [
      "['Apple', 'Banana', 'Peach']\n"
     ]
    },
    {
     "data": {
      "text/plain": [
       "list"
      ]
     },
     "execution_count": 165,
     "metadata": {},
     "output_type": "execute_result"
    }
   ],
   "source": [
    "fruits = [ \"Apple\",\"Banana\",\"Peach\"]\n",
    "print(fruits)\n",
    "type(fruits)"
   ]
  },
  {
   "cell_type": "code",
   "execution_count": 166,
   "id": "dda06f39",
   "metadata": {},
   "outputs": [
    {
     "name": "stdout",
     "output_type": "stream",
     "text": [
      "[1, 2, 3, 4, 5]\n"
     ]
    },
    {
     "data": {
      "text/plain": [
       "list"
      ]
     },
     "execution_count": 166,
     "metadata": {},
     "output_type": "execute_result"
    }
   ],
   "source": [
    "Num = [1,2,3,4,5]\n",
    "print(Num)\n",
    "type(fruits)"
   ]
  },
  {
   "cell_type": "code",
   "execution_count": 167,
   "id": "5d62ad35",
   "metadata": {},
   "outputs": [
    {
     "data": {
      "text/plain": [
       "3"
      ]
     },
     "execution_count": 167,
     "metadata": {},
     "output_type": "execute_result"
    }
   ],
   "source": [
    "len(fruits)"
   ]
  },
  {
   "cell_type": "code",
   "execution_count": 168,
   "id": "73d564aa",
   "metadata": {},
   "outputs": [
    {
     "name": "stdout",
     "output_type": "stream",
     "text": [
      "[1, 3.0, 'Hello', True]\n"
     ]
    },
    {
     "data": {
      "text/plain": [
       "list"
      ]
     },
     "execution_count": 168,
     "metadata": {},
     "output_type": "execute_result"
    }
   ],
   "source": [
    "myList = [1 , 3.0, 'Hello',True]\n",
    "print(myList)\n",
    "type(myList)"
   ]
  },
  {
   "cell_type": "code",
   "execution_count": 169,
   "id": "f103bf0d",
   "metadata": {},
   "outputs": [
    {
     "data": {
      "text/plain": [
       "'Peach'"
      ]
     },
     "execution_count": 169,
     "metadata": {},
     "output_type": "execute_result"
    }
   ],
   "source": [
    "fruits[2]"
   ]
  },
  {
   "cell_type": "code",
   "execution_count": 170,
   "id": "892f16d5",
   "metadata": {},
   "outputs": [
    {
     "data": {
      "text/plain": [
       "['Banana', 'Peach']"
      ]
     },
     "execution_count": 170,
     "metadata": {},
     "output_type": "execute_result"
    }
   ],
   "source": [
    "fruits[1:3] #it include 1 but not 3"
   ]
  },
  {
   "cell_type": "code",
   "execution_count": 171,
   "id": "16a52c18",
   "metadata": {},
   "outputs": [
    {
     "data": {
      "text/plain": [
       "[3, 4, 5]"
      ]
     },
     "execution_count": 171,
     "metadata": {},
     "output_type": "execute_result"
    }
   ],
   "source": [
    "Num[2:]"
   ]
  },
  {
   "cell_type": "code",
   "execution_count": 172,
   "id": "a4108d4f",
   "metadata": {},
   "outputs": [
    {
     "data": {
      "text/plain": [
       "[1, 2, 3]"
      ]
     },
     "execution_count": 172,
     "metadata": {},
     "output_type": "execute_result"
    }
   ],
   "source": [
    "Num[:3]"
   ]
  },
  {
   "cell_type": "code",
   "execution_count": 173,
   "id": "2a497c6f",
   "metadata": {},
   "outputs": [
    {
     "data": {
      "text/plain": [
       "[3, 4]"
      ]
     },
     "execution_count": 173,
     "metadata": {},
     "output_type": "execute_result"
    }
   ],
   "source": [
    "Num[2: 4]"
   ]
  },
  {
   "cell_type": "code",
   "execution_count": 174,
   "id": "38ae8928",
   "metadata": {},
   "outputs": [
    {
     "data": {
      "text/plain": [
       "True"
      ]
     },
     "execution_count": 174,
     "metadata": {},
     "output_type": "execute_result"
    }
   ],
   "source": [
    "'Banana' in fruits"
   ]
  },
  {
   "cell_type": "code",
   "execution_count": 175,
   "id": "33284b69",
   "metadata": {},
   "outputs": [
    {
     "data": {
      "text/plain": [
       "False"
      ]
     },
     "execution_count": 175,
     "metadata": {},
     "output_type": "execute_result"
    }
   ],
   "source": [
    "'Mango' in fruits"
   ]
  },
  {
   "cell_type": "markdown",
   "id": "09bde993",
   "metadata": {},
   "source": [
    "# Change list items"
   ]
  },
  {
   "cell_type": "code",
   "execution_count": 176,
   "id": "fc04998f",
   "metadata": {},
   "outputs": [
    {
     "data": {
      "text/plain": [
       "['Apple', 'Mango', 'Peach']"
      ]
     },
     "execution_count": 176,
     "metadata": {},
     "output_type": "execute_result"
    }
   ],
   "source": [
    "fruits[1] = 'Mango'# its reasign the index 1 value to given value\n",
    "fruits"
   ]
  },
  {
   "cell_type": "code",
   "execution_count": 177,
   "id": "1df450c8",
   "metadata": {},
   "outputs": [
    {
     "data": {
      "text/plain": [
       "['Apple', 'Mango', 'Peach']"
      ]
     },
     "execution_count": 177,
     "metadata": {},
     "output_type": "execute_result"
    }
   ],
   "source": [
    "fruits"
   ]
  },
  {
   "cell_type": "code",
   "execution_count": 178,
   "id": "be0d5a94",
   "metadata": {},
   "outputs": [
    {
     "data": {
      "text/plain": [
       "['Apple', 'Mang', 'peac']"
      ]
     },
     "execution_count": 178,
     "metadata": {},
     "output_type": "execute_result"
    }
   ],
   "source": [
    "fruits[1:3] = ['Mang','peac']\n",
    "fruits"
   ]
  },
  {
   "cell_type": "code",
   "execution_count": 179,
   "id": "d37608ab",
   "metadata": {},
   "outputs": [
    {
     "data": {
      "text/plain": [
       "['Apple', 'Mang', 'peac']"
      ]
     },
     "execution_count": 179,
     "metadata": {},
     "output_type": "execute_result"
    }
   ],
   "source": [
    "fruits"
   ]
  },
  {
   "cell_type": "code",
   "execution_count": 180,
   "id": "e2b5ae98",
   "metadata": {},
   "outputs": [
    {
     "data": {
      "text/plain": [
       "['Apple', 'Mang', 'Mango', 'Grapes']"
      ]
     },
     "execution_count": 180,
     "metadata": {},
     "output_type": "execute_result"
    }
   ],
   "source": [
    "fruits[2:3] = ['Mango','Grapes']\n",
    "fruits"
   ]
  },
  {
   "cell_type": "code",
   "execution_count": 181,
   "id": "99e829bf",
   "metadata": {},
   "outputs": [],
   "source": [
    "fruits[3:5] = ['Grape']"
   ]
  },
  {
   "cell_type": "code",
   "execution_count": 182,
   "id": "c52ef6da",
   "metadata": {},
   "outputs": [
    {
     "data": {
      "text/plain": [
       "['Apple', 'Mang', 'Mango', 'Grape']"
      ]
     },
     "execution_count": 182,
     "metadata": {},
     "output_type": "execute_result"
    }
   ],
   "source": [
    "fruits"
   ]
  },
  {
   "cell_type": "markdown",
   "id": "2b1aa433",
   "metadata": {},
   "source": [
    "# List Methods"
   ]
  },
  {
   "cell_type": "code",
   "execution_count": 183,
   "id": "52eb89d0",
   "metadata": {},
   "outputs": [
    {
     "data": {
      "text/plain": [
       "['Apple', 'berry', 'Mang', 'Mango', 'Grape']"
      ]
     },
     "execution_count": 183,
     "metadata": {},
     "output_type": "execute_result"
    }
   ],
   "source": [
    "fruits.insert(1,\"berry\") # it insert the value using index\n",
    "fruits"
   ]
  },
  {
   "cell_type": "code",
   "execution_count": 184,
   "id": "1681df29",
   "metadata": {},
   "outputs": [
    {
     "data": {
      "text/plain": [
       "['Apple', 'berry', 'Mang', 'Mango', 'Grape', 'Jackfruit']"
      ]
     },
     "execution_count": 184,
     "metadata": {},
     "output_type": "execute_result"
    }
   ],
   "source": [
    "fruits.append(\"Jackfruit\") # it adds item to the last position of list\n",
    "fruits"
   ]
  },
  {
   "cell_type": "code",
   "execution_count": 185,
   "id": "7cb6193a",
   "metadata": {},
   "outputs": [
    {
     "data": {
      "text/plain": [
       "'Jackfruit'"
      ]
     },
     "execution_count": 185,
     "metadata": {},
     "output_type": "execute_result"
    }
   ],
   "source": [
    "fruits.pop() # it remove the last item from a list"
   ]
  },
  {
   "cell_type": "code",
   "execution_count": 186,
   "id": "51ebcc45",
   "metadata": {},
   "outputs": [
    {
     "data": {
      "text/plain": [
       "'Mang'"
      ]
     },
     "execution_count": 186,
     "metadata": {},
     "output_type": "execute_result"
    }
   ],
   "source": [
    "fruits.pop(2) # it remove the item belong to index 2"
   ]
  },
  {
   "cell_type": "code",
   "execution_count": 187,
   "id": "f77c8e6d",
   "metadata": {},
   "outputs": [
    {
     "data": {
      "text/plain": [
       "['Apple', 'berry', 'Mango']"
      ]
     },
     "execution_count": 187,
     "metadata": {},
     "output_type": "execute_result"
    }
   ],
   "source": [
    "fruits.remove(\"Grape\")#it remove Grape from the list\n",
    "fruits"
   ]
  },
  {
   "cell_type": "code",
   "execution_count": 188,
   "id": "f055eb1d",
   "metadata": {},
   "outputs": [
    {
     "data": {
      "text/plain": [
       "[]"
      ]
     },
     "execution_count": 188,
     "metadata": {},
     "output_type": "execute_result"
    }
   ],
   "source": [
    "fruits.clear() # its empty out the list\n",
    "fruits"
   ]
  },
  {
   "cell_type": "code",
   "execution_count": 190,
   "id": "c63ea612",
   "metadata": {},
   "outputs": [
    {
     "data": {
      "text/plain": [
       "['Apple', 'Mang', 'Mango', 'Grape', 'Jackfruit']"
      ]
     },
     "execution_count": 190,
     "metadata": {},
     "output_type": "execute_result"
    }
   ],
   "source": [
    "fruits = ['Apple', 'Mang', 'Mango', 'Grape', 'Jackfruit'] # creating a list again\n",
    "fruits"
   ]
  },
  {
   "cell_type": "code",
   "execution_count": 191,
   "id": "94b53bbf",
   "metadata": {},
   "outputs": [
    {
     "data": {
      "text/plain": [
       "['Mang', 'Mango', 'Grape', 'Jackfruit']"
      ]
     },
     "execution_count": 191,
     "metadata": {},
     "output_type": "execute_result"
    }
   ],
   "source": [
    "del fruits[0] # it delete the item from index 0\n",
    "fruits"
   ]
  },
  {
   "cell_type": "code",
   "execution_count": 192,
   "id": "e46f082a",
   "metadata": {},
   "outputs": [],
   "source": [
    "# del fruits # its delete  list completely"
   ]
  },
  {
   "cell_type": "code",
   "execution_count": 193,
   "id": "b6575521",
   "metadata": {},
   "outputs": [
    {
     "data": {
      "text/plain": [
       "['Apple', 'Mang', 'Mango', 'Grape', 'Jackfruit']"
      ]
     },
     "execution_count": 193,
     "metadata": {},
     "output_type": "execute_result"
    }
   ],
   "source": [
    "fruits = ['Apple', 'Mang', 'Mango', 'Grape', 'Jackfruit'] # creating a list again\n",
    "fruits"
   ]
  },
  {
   "cell_type": "markdown",
   "id": "36bfa19a",
   "metadata": {},
   "source": [
    "# Sorting list "
   ]
  },
  {
   "cell_type": "code",
   "execution_count": 194,
   "id": "844ccfb8",
   "metadata": {},
   "outputs": [
    {
     "data": {
      "text/plain": [
       "['Apple', 'Grape', 'Jackfruit', 'Mang', 'Mango']"
      ]
     },
     "execution_count": 194,
     "metadata": {},
     "output_type": "execute_result"
    }
   ],
   "source": [
    "fruits.sort(reverse = False) #  sorting alphabhetically and in ascending order by comparing with ascii value\n",
    "fruits"
   ]
  },
  {
   "cell_type": "code",
   "execution_count": 195,
   "id": "38980f89",
   "metadata": {},
   "outputs": [
    {
     "data": {
      "text/plain": [
       "['Apple', 'Grape', 'Jackfruit', 'Mang', 'Mango']"
      ]
     },
     "execution_count": 195,
     "metadata": {},
     "output_type": "execute_result"
    }
   ],
   "source": [
    "fruits.sort() # in default it use reverse as false\n",
    "fruits"
   ]
  },
  {
   "cell_type": "code",
   "execution_count": 196,
   "id": "7e14b430",
   "metadata": {},
   "outputs": [
    {
     "data": {
      "text/plain": [
       "['Apple', 'Grape', 'Jackfruit', 'Mang', 'Mango']"
      ]
     },
     "execution_count": 196,
     "metadata": {},
     "output_type": "execute_result"
    }
   ],
   "source": [
    "fruits.sort(key = str.lower) # it convert every item into lower to sort\n",
    "fruits"
   ]
  },
  {
   "cell_type": "code",
   "execution_count": 197,
   "id": "c4905f59",
   "metadata": {},
   "outputs": [
    {
     "data": {
      "text/plain": [
       "['Mango', 'Mang', 'Jackfruit', 'Grape', 'Apple']"
      ]
     },
     "execution_count": 197,
     "metadata": {},
     "output_type": "execute_result"
    }
   ],
   "source": [
    "fruits.sort(reverse = True) # sorting in desending order\n",
    "fruits"
   ]
  },
  {
   "cell_type": "code",
   "execution_count": null,
   "id": "7ce5e96b",
   "metadata": {},
   "outputs": [],
   "source": [
    "fruits.reverse() # you can reverse the items without using sort method\n",
    "fruits"
   ]
  },
  {
   "cell_type": "markdown",
   "id": "74e15543",
   "metadata": {},
   "source": [
    "# Making copy of list"
   ]
  },
  {
   "cell_type": "code",
   "execution_count": null,
   "id": "59da6dc3",
   "metadata": {},
   "outputs": [],
   "source": [
    "copy_of_fruits = fruits.copy() # copying the list\n",
    "copy_of_fruits"
   ]
  },
  {
   "cell_type": "markdown",
   "id": "73b3d524",
   "metadata": {},
   "source": [
    "                      or "
   ]
  },
  {
   "cell_type": "code",
   "execution_count": null,
   "id": "3b7180e7",
   "metadata": {},
   "outputs": [],
   "source": [
    "copy_of_fruits1 = list(fruits) # copying the list\n",
    "copy_of_fruits1"
   ]
  },
  {
   "cell_type": "markdown",
   "id": "8c0b3b28",
   "metadata": {},
   "source": [
    "# join list"
   ]
  },
  {
   "cell_type": "code",
   "execution_count": null,
   "id": "78ad94bd",
   "metadata": {},
   "outputs": [],
   "source": [
    "join_list = copy_of_fruits + fruits # joining to list items\n",
    "print(join_list)"
   ]
  },
  {
   "cell_type": "code",
   "execution_count": null,
   "id": "a1f8766f",
   "metadata": {},
   "outputs": [],
   "source": [
    "copy_of_fruits.extend(fruits) # it extend the first list by adding items of second list\n",
    "print(copy_of_fruits)"
   ]
  },
  {
   "cell_type": "markdown",
   "id": "3e771c6a",
   "metadata": {},
   "source": [
    "\n",
    "Note : joining using + sign doesnt change both list but using extend method modify first list by adding items \n",
    "                           of the second list to the first list"
   ]
  },
  {
   "cell_type": "markdown",
   "id": "1cd90f37",
   "metadata": {},
   "source": [
    "# Python Conditional"
   ]
  },
  {
   "cell_type": "markdown",
   "id": "1eb818a6",
   "metadata": {},
   "source": [
    "## If statements"
   ]
  },
  {
   "cell_type": "code",
   "execution_count": null,
   "id": "6e9e3409",
   "metadata": {},
   "outputs": [],
   "source": [
    "x = int(input(\"input your age : \")) # voting eligible if your age is 18 or greater \n",
    "\n",
    "if x >= 18 :\n",
    "    print(\"you are eligible to vote\")\n",
    "else:\n",
    "    print(\"you are not eligible to vote\")"
   ]
  },
  {
   "cell_type": "code",
   "execution_count": null,
   "id": "128e09d8",
   "metadata": {},
   "outputs": [],
   "source": [
    "x = 2\n",
    "if x > 5 :\n",
    "    print(\" x is greater than 5\")\n",
    "elif x > 3:\n",
    "    print(\"x is greater than 3\")\n",
    "else :\n",
    "    print(\"x is lesser than both 3 and 5\")"
   ]
  },
  {
   "cell_type": "markdown",
   "id": "e4613f71",
   "metadata": {},
   "source": [
    "## Short hand if"
   ]
  },
  {
   "cell_type": "code",
   "execution_count": null,
   "id": "f848182e",
   "metadata": {},
   "outputs": [],
   "source": [
    "x = 3\n",
    "if x == 3 : print('x is equall to 3')"
   ]
  },
  {
   "cell_type": "code",
   "execution_count": null,
   "id": "2b5c957e",
   "metadata": {},
   "outputs": [],
   "source": [
    "x = 2\n",
    "print(\"x is equall to 2\") if x == 2  else print(\"x is not equall to 2\")"
   ]
  },
  {
   "cell_type": "code",
   "execution_count": null,
   "id": "d10dbd77",
   "metadata": {},
   "outputs": [],
   "source": []
  }
 ],
 "metadata": {
  "kernelspec": {
   "display_name": "Python 3 (ipykernel)",
   "language": "python",
   "name": "python3"
  },
  "language_info": {
   "codemirror_mode": {
    "name": "ipython",
    "version": 3
   },
   "file_extension": ".py",
   "mimetype": "text/x-python",
   "name": "python",
   "nbconvert_exporter": "python",
   "pygments_lexer": "ipython3",
   "version": "3.11.5"
  }
 },
 "nbformat": 4,
 "nbformat_minor": 5
}
