{
 "cells": [
  {
   "cell_type": "markdown",
   "id": "9d7db020",
   "metadata": {},
   "source": [
    "# This is my first coding."
   ]
  },
  {
   "cell_type": "code",
   "execution_count": 5,
   "id": "9316562b",
   "metadata": {},
   "outputs": [
    {
     "name": "stdout",
     "output_type": "stream",
     "text": [
      "Hello World\n"
     ]
    }
   ],
   "source": [
    "# printing Hello world\n",
    "print(\"Hello World\")"
   ]
  },
  {
   "cell_type": "code",
   "execution_count": 6,
   "id": "851ddc7d",
   "metadata": {},
   "outputs": [
    {
     "name": "stdout",
     "output_type": "stream",
     "text": [
      "I love python\n"
     ]
    }
   ],
   "source": [
    "'''This multiple line comment'''\n",
    "print(\"I love python\")"
   ]
  },
  {
   "cell_type": "code",
   "execution_count": 10,
   "id": "70069d97",
   "metadata": {},
   "outputs": [
    {
     "name": "stdout",
     "output_type": "stream",
     "text": [
      "2\n"
     ]
    }
   ],
   "source": [
    "x = 2 # declearing variable\n",
    "X = 5\n",
    "print(x)"
   ]
  },
  {
   "cell_type": "code",
   "execution_count": 11,
   "id": "685b045d",
   "metadata": {},
   "outputs": [
    {
     "name": "stdout",
     "output_type": "stream",
     "text": [
      "5\n"
     ]
    }
   ],
   "source": [
    "print(X)"
   ]
  },
  {
   "cell_type": "code",
   "execution_count": 15,
   "id": "2dcf8351",
   "metadata": {},
   "outputs": [
    {
     "name": "stdout",
     "output_type": "stream",
     "text": [
      "my name is  Kiran and last name is Paudel\n"
     ]
    }
   ],
   "source": [
    "first_name = \"Kiran\" # assigning string to a variable\n",
    "last_name = \"Paudel\"\n",
    "print(\"my name is \",first_name,\"and last name is\",last_name )\n"
   ]
  },
  {
   "cell_type": "code",
   "execution_count": 16,
   "id": "cab120c7",
   "metadata": {},
   "outputs": [
    {
     "ename": "SyntaxError",
     "evalue": "invalid decimal literal (1535572672.py, line 1)",
     "output_type": "error",
     "traceback": [
      "\u001b[0;36m  Cell \u001b[0;32mIn[16], line 1\u001b[0;36m\u001b[0m\n\u001b[0;31m    7name = \" Harry\"\u001b[0m\n\u001b[0m    ^\u001b[0m\n\u001b[0;31mSyntaxError\u001b[0m\u001b[0;31m:\u001b[0m invalid decimal literal\n"
     ]
    }
   ],
   "source": [
    "7name = \" Harry\" # number are not accepted at the front of variable"
   ]
  },
  {
   "cell_type": "code",
   "execution_count": 18,
   "id": "3b55aa55",
   "metadata": {},
   "outputs": [],
   "source": [
    "_age = 25\n",
    "name7 = \"Sarah\"\n",
    "n7ame = \"Joshnson\"\n",
    "country = \"Nepal\"\n",
    "Country = \"USA\""
   ]
  },
  {
   "cell_type": "code",
   "execution_count": 19,
   "id": "11d36ad7",
   "metadata": {},
   "outputs": [
    {
     "name": "stdout",
     "output_type": "stream",
     "text": [
      "_age: 25\n",
      "name7 Sarah\n",
      "n7ame: Joshnson\n",
      "country: Nepal\n",
      "Country: USA\n"
     ]
    }
   ],
   "source": [
    "print(\"_age:\",_age)\n",
    "print(\"name7\",name7)\n",
    "print(\"n7ame:\",n7ame)\n",
    "print(\"country:\",country)\n",
    "print(\"Country:\",Country)\n"
   ]
  },
  {
   "cell_type": "code",
   "execution_count": 24,
   "id": "af1a8716",
   "metadata": {},
   "outputs": [
    {
     "name": "stdout",
     "output_type": "stream",
     "text": [
      "my name is  Kiran and my age is age1 24\n"
     ]
    }
   ],
   "source": [
    "name1 = \"Kiran\"\n",
    "age1 = 24\n",
    "print(\"my name is \",name1 ,\"and my age is age1\", age1)\n"
   ]
  },
  {
   "cell_type": "code",
   "execution_count": 25,
   "id": "db1ded75",
   "metadata": {},
   "outputs": [
    {
     "data": {
      "text/plain": [
       "str"
      ]
     },
     "execution_count": 25,
     "metadata": {},
     "output_type": "execute_result"
    }
   ],
   "source": [
    "type(name1)"
   ]
  },
  {
   "cell_type": "code",
   "execution_count": 28,
   "id": "b1917570",
   "metadata": {},
   "outputs": [
    {
     "data": {
      "text/plain": [
       "int"
      ]
     },
     "execution_count": 28,
     "metadata": {},
     "output_type": "execute_result"
    }
   ],
   "source": [
    "type(age1)"
   ]
  },
  {
   "cell_type": "code",
   "execution_count": 30,
   "id": "dfe8abd7",
   "metadata": {},
   "outputs": [
    {
     "data": {
      "text/plain": [
       "list"
      ]
     },
     "execution_count": 30,
     "metadata": {},
     "output_type": "execute_result"
    }
   ],
   "source": [
    "ls = [1 ,24,5 ]\n",
    "type(ls)"
   ]
  },
  {
   "cell_type": "code",
   "execution_count": 34,
   "id": "750f8b4b",
   "metadata": {},
   "outputs": [
    {
     "data": {
      "text/plain": [
       "(2, '45', 2.0)"
      ]
     },
     "execution_count": 34,
     "metadata": {},
     "output_type": "execute_result"
    }
   ],
   "source": [
    "x = int(2.45) # forcing to change from float to integer\n",
    "y = str(45)# changing int to string\n",
    "z = float(2)# changing to float\n",
    "x,y,z"
   ]
  },
  {
   "cell_type": "markdown",
   "id": "ec50a315",
   "metadata": {},
   "source": [
    "# Arthimetic Operation"
   ]
  },
  {
   "cell_type": "code",
   "execution_count": 1,
   "id": "a8d5cc67",
   "metadata": {},
   "outputs": [
    {
     "data": {
      "text/plain": [
       "4"
      ]
     },
     "execution_count": 1,
     "metadata": {},
     "output_type": "execute_result"
    }
   ],
   "source": [
    "2 + 2 # addition"
   ]
  },
  {
   "cell_type": "code",
   "execution_count": 2,
   "id": "e7353163",
   "metadata": {},
   "outputs": [
    {
     "data": {
      "text/plain": [
       "0"
      ]
     },
     "execution_count": 2,
     "metadata": {},
     "output_type": "execute_result"
    }
   ],
   "source": [
    "2 - 2 # substraction"
   ]
  },
  {
   "cell_type": "code",
   "execution_count": 3,
   "id": "5a3a571e",
   "metadata": {},
   "outputs": [
    {
     "data": {
      "text/plain": [
       "6"
      ]
     },
     "execution_count": 3,
     "metadata": {},
     "output_type": "execute_result"
    }
   ],
   "source": [
    "2 * 3 # multiplication"
   ]
  },
  {
   "cell_type": "code",
   "execution_count": 4,
   "id": "1fa9123a",
   "metadata": {},
   "outputs": [
    {
     "data": {
      "text/plain": [
       "1.0"
      ]
     },
     "execution_count": 4,
     "metadata": {},
     "output_type": "execute_result"
    }
   ],
   "source": [
    "3 / 3 # division"
   ]
  },
  {
   "cell_type": "code",
   "execution_count": 5,
   "id": "363dfe0c",
   "metadata": {},
   "outputs": [
    {
     "data": {
      "text/plain": [
       "4"
      ]
     },
     "execution_count": 5,
     "metadata": {},
     "output_type": "execute_result"
    }
   ],
   "source": [
    "2 ** 2 # 2 to the powert 3"
   ]
  },
  {
   "cell_type": "code",
   "execution_count": 6,
   "id": "2a782b8c",
   "metadata": {},
   "outputs": [
    {
     "data": {
      "text/plain": [
       "1"
      ]
     },
     "execution_count": 6,
     "metadata": {},
     "output_type": "execute_result"
    }
   ],
   "source": [
    "5 % 2 # remainder"
   ]
  },
  {
   "cell_type": "code",
   "execution_count": 7,
   "id": "b6e22eb3",
   "metadata": {},
   "outputs": [
    {
     "data": {
      "text/plain": [
       "2"
      ]
     },
     "execution_count": 7,
     "metadata": {},
     "output_type": "execute_result"
    }
   ],
   "source": [
    "5 % 3 # floor division"
   ]
  },
  {
   "cell_type": "markdown",
   "id": "bd1dcbb8",
   "metadata": {},
   "source": [
    "# Exercise"
   ]
  },
  {
   "cell_type": "code",
   "execution_count": 14,
   "id": "aa93106e",
   "metadata": {},
   "outputs": [
    {
     "data": {
      "text/plain": [
       "8.166666666666666"
      ]
     },
     "execution_count": 14,
     "metadata": {},
     "output_type": "execute_result"
    }
   ],
   "source": [
    " x = 7 * (3 + 8 -4)/6\n",
    "x"
   ]
  },
  {
   "cell_type": "code",
   "execution_count": 15,
   "id": "ab0c6c0c",
   "metadata": {},
   "outputs": [
    {
     "data": {
      "text/plain": [
       "0.16666666666666607"
      ]
     },
     "execution_count": 15,
     "metadata": {},
     "output_type": "execute_result"
    }
   ],
   "source": [
    "y = (x)% 2\n",
    "y"
   ]
  },
  {
   "cell_type": "code",
   "execution_count": 16,
   "id": "03f65e2a",
   "metadata": {},
   "outputs": [
    {
     "data": {
      "text/plain": [
       "0.00462962962962958"
      ]
     },
     "execution_count": 16,
     "metadata": {},
     "output_type": "execute_result"
    }
   ],
   "source": [
    "z = y ** 3\n",
    "z"
   ]
  },
  {
   "cell_type": "code",
   "execution_count": 17,
   "id": "17113fd5",
   "metadata": {},
   "outputs": [
    {
     "data": {
      "text/plain": [
       "0.0"
      ]
     },
     "execution_count": 17,
     "metadata": {},
     "output_type": "execute_result"
    }
   ],
   "source": [
    "k = z//3\n",
    "k"
   ]
  },
  {
   "cell_type": "code",
   "execution_count": 18,
   "id": "e6c8d1bf",
   "metadata": {},
   "outputs": [
    {
     "data": {
      "text/plain": [
       "3"
      ]
     },
     "execution_count": 18,
     "metadata": {},
     "output_type": "execute_result"
    }
   ],
   "source": [
    "x = 3\n",
    "x"
   ]
  },
  {
   "cell_type": "code",
   "execution_count": 23,
   "id": "49ed6617",
   "metadata": {},
   "outputs": [
    {
     "data": {
      "text/plain": [
       "330"
      ]
     },
     "execution_count": 23,
     "metadata": {},
     "output_type": "execute_result"
    }
   ],
   "source": [
    "x += 5 # its adds 5 in x\n",
    "x"
   ]
  },
  {
   "cell_type": "code",
   "execution_count": 22,
   "id": "c133eefc",
   "metadata": {},
   "outputs": [
    {
     "data": {
      "text/plain": [
       "325"
      ]
     },
     "execution_count": 22,
     "metadata": {},
     "output_type": "execute_result"
    }
   ],
   "source": [
    "x *= 5\n",
    "x"
   ]
  },
  {
   "cell_type": "markdown",
   "id": "c923378c",
   "metadata": {},
   "source": [
    "# comparision operation"
   ]
  },
  {
   "cell_type": "code",
   "execution_count": 25,
   "id": "d430be42",
   "metadata": {},
   "outputs": [
    {
     "data": {
      "text/plain": [
       "False"
      ]
     },
     "execution_count": 25,
     "metadata": {},
     "output_type": "execute_result"
    }
   ],
   "source": [
    "2 == 3"
   ]
  },
  {
   "cell_type": "code",
   "execution_count": 26,
   "id": "1a7539fc",
   "metadata": {},
   "outputs": [
    {
     "data": {
      "text/plain": [
       "True"
      ]
     },
     "execution_count": 26,
     "metadata": {},
     "output_type": "execute_result"
    }
   ],
   "source": [
    "2 != 3"
   ]
  },
  {
   "cell_type": "code",
   "execution_count": 27,
   "id": "84f600f5",
   "metadata": {},
   "outputs": [
    {
     "data": {
      "text/plain": [
       "True"
      ]
     },
     "execution_count": 27,
     "metadata": {},
     "output_type": "execute_result"
    }
   ],
   "source": [
    "2 < 3"
   ]
  },
  {
   "cell_type": "code",
   "execution_count": 29,
   "id": "5b958fa6",
   "metadata": {},
   "outputs": [
    {
     "data": {
      "text/plain": [
       "True"
      ]
     },
     "execution_count": 29,
     "metadata": {},
     "output_type": "execute_result"
    }
   ],
   "source": [
    "3 <= 3"
   ]
  },
  {
   "cell_type": "markdown",
   "id": "863718a7",
   "metadata": {},
   "source": [
    "# Logical Operation"
   ]
  },
  {
   "cell_type": "code",
   "execution_count": 30,
   "id": "ffba5b9e",
   "metadata": {},
   "outputs": [
    {
     "data": {
      "text/plain": [
       "True"
      ]
     },
     "execution_count": 30,
     "metadata": {},
     "output_type": "execute_result"
    }
   ],
   "source": [
    "2 > 1 and 3 < 5"
   ]
  },
  {
   "cell_type": "code",
   "execution_count": 31,
   "id": "d04339ed",
   "metadata": {},
   "outputs": [
    {
     "data": {
      "text/plain": [
       "True"
      ]
     },
     "execution_count": 31,
     "metadata": {},
     "output_type": "execute_result"
    }
   ],
   "source": [
    "2 < 3 or 5 < 3"
   ]
  },
  {
   "cell_type": "code",
   "execution_count": 32,
   "id": "1f182ea6",
   "metadata": {},
   "outputs": [
    {
     "data": {
      "text/plain": [
       "False"
      ]
     },
     "execution_count": 32,
     "metadata": {},
     "output_type": "execute_result"
    }
   ],
   "source": [
    "2 < 3 and 5 < 3"
   ]
  },
  {
   "cell_type": "code",
   "execution_count": 33,
   "id": "364b7faa",
   "metadata": {},
   "outputs": [
    {
     "data": {
      "text/plain": [
       "True"
      ]
     },
     "execution_count": 33,
     "metadata": {},
     "output_type": "execute_result"
    }
   ],
   "source": [
    "2 > 1 or 3 < 5"
   ]
  },
  {
   "cell_type": "markdown",
   "id": "812fa2bf",
   "metadata": {},
   "source": [
    "# logical opertator procedure"
   ]
  },
  {
   "cell_type": "code",
   "execution_count": 34,
   "id": "09d1394f",
   "metadata": {},
   "outputs": [
    {
     "data": {
      "text/plain": [
       "False"
      ]
     },
     "execution_count": 34,
     "metadata": {},
     "output_type": "execute_result"
    }
   ],
   "source": [
    "False or True  and not True"
   ]
  },
  {
   "cell_type": "markdown",
   "id": "2b5e6420",
   "metadata": {},
   "source": [
    "# Identity Operators "
   ]
  },
  {
   "cell_type": "code",
   "execution_count": 35,
   "id": "15b8de66",
   "metadata": {},
   "outputs": [
    {
     "data": {
      "text/plain": [
       "True"
      ]
     },
     "execution_count": 35,
     "metadata": {},
     "output_type": "execute_result"
    }
   ],
   "source": [
    "x = 2\n",
    "type(x) is int "
   ]
  },
  {
   "cell_type": "code",
   "execution_count": 40,
   "id": "611efdb0",
   "metadata": {},
   "outputs": [
    {
     "data": {
      "text/plain": [
       "False"
      ]
     },
     "execution_count": 40,
     "metadata": {},
     "output_type": "execute_result"
    }
   ],
   "source": [
    "y = 2.32\n",
    "type(y) is int"
   ]
  },
  {
   "cell_type": "code",
   "execution_count": 41,
   "id": "99167a66",
   "metadata": {},
   "outputs": [
    {
     "data": {
      "text/plain": [
       "True"
      ]
     },
     "execution_count": 41,
     "metadata": {},
     "output_type": "execute_result"
    }
   ],
   "source": [
    "type(y) is not int "
   ]
  },
  {
   "cell_type": "code",
   "execution_count": 42,
   "id": "096ce14f",
   "metadata": {},
   "outputs": [
    {
     "data": {
      "text/plain": [
       "True"
      ]
     },
     "execution_count": 42,
     "metadata": {},
     "output_type": "execute_result"
    }
   ],
   "source": [
    "type(y) is float"
   ]
  },
  {
   "cell_type": "markdown",
   "id": "d45adeef",
   "metadata": {},
   "source": [
    "# membership Operation"
   ]
  },
  {
   "cell_type": "code",
   "execution_count": 43,
   "id": "e2d991a9",
   "metadata": {},
   "outputs": [
    {
     "data": {
      "text/plain": [
       "True"
      ]
     },
     "execution_count": 43,
     "metadata": {},
     "output_type": "execute_result"
    }
   ],
   "source": [
    "'h' in 'hello'"
   ]
  },
  {
   "cell_type": "code",
   "execution_count": 44,
   "id": "3d688d1f",
   "metadata": {},
   "outputs": [
    {
     "data": {
      "text/plain": [
       "True"
      ]
     },
     "execution_count": 44,
     "metadata": {},
     "output_type": "execute_result"
    }
   ],
   "source": [
    "'llo' in 'hello'"
   ]
  },
  {
   "cell_type": "code",
   "execution_count": 45,
   "id": "31057227",
   "metadata": {},
   "outputs": [
    {
     "data": {
      "text/plain": [
       "False"
      ]
     },
     "execution_count": 45,
     "metadata": {},
     "output_type": "execute_result"
    }
   ],
   "source": [
    "'m' in 'hello'"
   ]
  },
  {
   "cell_type": "markdown",
   "id": "ab4c9cab",
   "metadata": {},
   "source": [
    "# Bitwise Operators"
   ]
  },
  {
   "cell_type": "code",
   "execution_count": 46,
   "id": "d3f01efe",
   "metadata": {},
   "outputs": [
    {
     "data": {
      "text/plain": [
       "2"
      ]
     },
     "execution_count": 46,
     "metadata": {},
     "output_type": "execute_result"
    }
   ],
   "source": [
    " 2 & 3"
   ]
  },
  {
   "cell_type": "code",
   "execution_count": 47,
   "id": "bc99c0f5",
   "metadata": {},
   "outputs": [
    {
     "data": {
      "text/plain": [
       "3"
      ]
     },
     "execution_count": 47,
     "metadata": {},
     "output_type": "execute_result"
    }
   ],
   "source": [
    "2 | 3"
   ]
  },
  {
   "cell_type": "markdown",
   "id": "890807c2",
   "metadata": {},
   "source": [
    "# Pyrhon List"
   ]
  },
  {
   "cell_type": "code",
   "execution_count": 91,
   "id": "952b8921",
   "metadata": {},
   "outputs": [
    {
     "name": "stdout",
     "output_type": "stream",
     "text": [
      "['Apple', 'Banana', 'Peach']\n"
     ]
    },
    {
     "data": {
      "text/plain": [
       "list"
      ]
     },
     "execution_count": 91,
     "metadata": {},
     "output_type": "execute_result"
    }
   ],
   "source": [
    "fruits = [ \"Apple\",\"Banana\",\"Peach\"]\n",
    "print(fruits)\n",
    "type(fruits)"
   ]
  },
  {
   "cell_type": "code",
   "execution_count": 92,
   "id": "dda06f39",
   "metadata": {},
   "outputs": [
    {
     "name": "stdout",
     "output_type": "stream",
     "text": [
      "[1, 2, 3, 4, 5]\n"
     ]
    },
    {
     "data": {
      "text/plain": [
       "list"
      ]
     },
     "execution_count": 92,
     "metadata": {},
     "output_type": "execute_result"
    }
   ],
   "source": [
    "Num = [1,2,3,4,5]\n",
    "print(Num)\n",
    "type(fruits)"
   ]
  },
  {
   "cell_type": "code",
   "execution_count": 93,
   "id": "5d62ad35",
   "metadata": {},
   "outputs": [
    {
     "data": {
      "text/plain": [
       "3"
      ]
     },
     "execution_count": 93,
     "metadata": {},
     "output_type": "execute_result"
    }
   ],
   "source": [
    "len(fruits)"
   ]
  },
  {
   "cell_type": "code",
   "execution_count": 94,
   "id": "73d564aa",
   "metadata": {},
   "outputs": [
    {
     "name": "stdout",
     "output_type": "stream",
     "text": [
      "[1, 3.0, 'Hello', True]\n"
     ]
    },
    {
     "data": {
      "text/plain": [
       "list"
      ]
     },
     "execution_count": 94,
     "metadata": {},
     "output_type": "execute_result"
    }
   ],
   "source": [
    "myList = [1 , 3.0, 'Hello',True]\n",
    "print(myList)\n",
    "type(myList)"
   ]
  },
  {
   "cell_type": "code",
   "execution_count": 95,
   "id": "f103bf0d",
   "metadata": {},
   "outputs": [
    {
     "data": {
      "text/plain": [
       "'Peach'"
      ]
     },
     "execution_count": 95,
     "metadata": {},
     "output_type": "execute_result"
    }
   ],
   "source": [
    "fruits[2]"
   ]
  },
  {
   "cell_type": "code",
   "execution_count": 96,
   "id": "892f16d5",
   "metadata": {},
   "outputs": [
    {
     "data": {
      "text/plain": [
       "['Banana', 'Peach']"
      ]
     },
     "execution_count": 96,
     "metadata": {},
     "output_type": "execute_result"
    }
   ],
   "source": [
    "fruits[1:3] #it include 1 but not 3"
   ]
  },
  {
   "cell_type": "code",
   "execution_count": 97,
   "id": "16a52c18",
   "metadata": {},
   "outputs": [
    {
     "data": {
      "text/plain": [
       "[3, 4, 5]"
      ]
     },
     "execution_count": 97,
     "metadata": {},
     "output_type": "execute_result"
    }
   ],
   "source": [
    "Num[2:]"
   ]
  },
  {
   "cell_type": "code",
   "execution_count": 98,
   "id": "a4108d4f",
   "metadata": {},
   "outputs": [
    {
     "data": {
      "text/plain": [
       "[1, 2, 3]"
      ]
     },
     "execution_count": 98,
     "metadata": {},
     "output_type": "execute_result"
    }
   ],
   "source": [
    "Num[:3]"
   ]
  },
  {
   "cell_type": "code",
   "execution_count": 99,
   "id": "2a497c6f",
   "metadata": {},
   "outputs": [
    {
     "data": {
      "text/plain": [
       "[3, 4]"
      ]
     },
     "execution_count": 99,
     "metadata": {},
     "output_type": "execute_result"
    }
   ],
   "source": [
    "Num[2: 4]"
   ]
  },
  {
   "cell_type": "code",
   "execution_count": 100,
   "id": "38ae8928",
   "metadata": {},
   "outputs": [
    {
     "data": {
      "text/plain": [
       "True"
      ]
     },
     "execution_count": 100,
     "metadata": {},
     "output_type": "execute_result"
    }
   ],
   "source": [
    "'Banana' in fruits"
   ]
  },
  {
   "cell_type": "code",
   "execution_count": 101,
   "id": "33284b69",
   "metadata": {},
   "outputs": [
    {
     "data": {
      "text/plain": [
       "False"
      ]
     },
     "execution_count": 101,
     "metadata": {},
     "output_type": "execute_result"
    }
   ],
   "source": [
    "'Mango' in fruits"
   ]
  },
  {
   "cell_type": "markdown",
   "id": "09bde993",
   "metadata": {},
   "source": [
    "# Change list items"
   ]
  },
  {
   "cell_type": "code",
   "execution_count": 102,
   "id": "fc04998f",
   "metadata": {},
   "outputs": [
    {
     "data": {
      "text/plain": [
       "['Apple', 'Mango', 'Peach']"
      ]
     },
     "execution_count": 102,
     "metadata": {},
     "output_type": "execute_result"
    }
   ],
   "source": [
    "fruits[1] = 'Mango'# its reasign the index 1 value to given value\n",
    "fruits"
   ]
  },
  {
   "cell_type": "code",
   "execution_count": 103,
   "id": "1df450c8",
   "metadata": {},
   "outputs": [
    {
     "data": {
      "text/plain": [
       "['Apple', 'Mango', 'Peach']"
      ]
     },
     "execution_count": 103,
     "metadata": {},
     "output_type": "execute_result"
    }
   ],
   "source": [
    "fruits"
   ]
  },
  {
   "cell_type": "code",
   "execution_count": 104,
   "id": "be0d5a94",
   "metadata": {},
   "outputs": [
    {
     "data": {
      "text/plain": [
       "['Apple', 'Mang', 'peac']"
      ]
     },
     "execution_count": 104,
     "metadata": {},
     "output_type": "execute_result"
    }
   ],
   "source": [
    "fruits[1:3] = ['Mang','peac']\n",
    "fruits"
   ]
  },
  {
   "cell_type": "code",
   "execution_count": 105,
   "id": "d37608ab",
   "metadata": {},
   "outputs": [
    {
     "data": {
      "text/plain": [
       "['Apple', 'Mang', 'peac']"
      ]
     },
     "execution_count": 105,
     "metadata": {},
     "output_type": "execute_result"
    }
   ],
   "source": [
    "fruits"
   ]
  },
  {
   "cell_type": "code",
   "execution_count": 108,
   "id": "e2b5ae98",
   "metadata": {},
   "outputs": [
    {
     "data": {
      "text/plain": [
       "['Apple', 'Mang', 'Mango', 'Grapes', 'Grapes']"
      ]
     },
     "execution_count": 108,
     "metadata": {},
     "output_type": "execute_result"
    }
   ],
   "source": [
    "fruits[2:3] = ['Mango','Grapes']\n",
    "fruits"
   ]
  },
  {
   "cell_type": "code",
   "execution_count": 114,
   "id": "99e829bf",
   "metadata": {},
   "outputs": [],
   "source": [
    "fruits[3:5] = ['Grape']"
   ]
  },
  {
   "cell_type": "code",
   "execution_count": 115,
   "id": "c52ef6da",
   "metadata": {},
   "outputs": [
    {
     "data": {
      "text/plain": [
       "['Apple', 'Mang', 'Mango', 'Grape']"
      ]
     },
     "execution_count": 115,
     "metadata": {},
     "output_type": "execute_result"
    }
   ],
   "source": [
    "fruits"
   ]
  },
  {
   "cell_type": "code",
   "execution_count": null,
   "id": "01fe0d61",
   "metadata": {},
   "outputs": [],
   "source": []
  }
 ],
 "metadata": {
  "kernelspec": {
   "display_name": "Python 3 (ipykernel)",
   "language": "python",
   "name": "python3"
  },
  "language_info": {
   "codemirror_mode": {
    "name": "ipython",
    "version": 3
   },
   "file_extension": ".py",
   "mimetype": "text/x-python",
   "name": "python",
   "nbconvert_exporter": "python",
   "pygments_lexer": "ipython3",
   "version": "3.11.5"
  }
 },
 "nbformat": 4,
 "nbformat_minor": 5
}
