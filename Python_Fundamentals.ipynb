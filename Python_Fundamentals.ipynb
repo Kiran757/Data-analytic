{
 "cells": [
  {
   "cell_type": "markdown",
   "id": "9d7db020",
   "metadata": {},
   "source": [
    "# This is my first coding."
   ]
  },
  {
   "cell_type": "code",
   "execution_count": 1,
   "id": "9316562b",
   "metadata": {},
   "outputs": [
    {
     "name": "stdout",
     "output_type": "stream",
     "text": [
      "Hello World\n"
     ]
    }
   ],
   "source": [
    "# Printing Hello world\n",
    "print(\"Hello World\")"
   ]
  },
  {
   "cell_type": "code",
   "execution_count": 2,
   "id": "851ddc7d",
   "metadata": {},
   "outputs": [
    {
     "name": "stdout",
     "output_type": "stream",
     "text": [
      "I love python\n"
     ]
    }
   ],
   "source": [
    "'''This multiple line comment'''\n",
    "print(\"I love python\")"
   ]
  },
  {
   "cell_type": "code",
   "execution_count": 3,
   "id": "70069d97",
   "metadata": {},
   "outputs": [
    {
     "name": "stdout",
     "output_type": "stream",
     "text": [
      "2\n"
     ]
    }
   ],
   "source": [
    "x = 2 # Declearing variable\n",
    "X = 5\n",
    "print(x)"
   ]
  },
  {
   "cell_type": "code",
   "execution_count": 4,
   "id": "685b045d",
   "metadata": {},
   "outputs": [
    {
     "name": "stdout",
     "output_type": "stream",
     "text": [
      "5\n"
     ]
    }
   ],
   "source": [
    "print(X)"
   ]
  },
  {
   "cell_type": "code",
   "execution_count": 5,
   "id": "2dcf8351",
   "metadata": {},
   "outputs": [
    {
     "name": "stdout",
     "output_type": "stream",
     "text": [
      "my name is  Kiran and last name is Paudel\n"
     ]
    }
   ],
   "source": [
    "first_name = \"Kiran\" # Assigning string to a variable\n",
    "last_name = \"Paudel\"\n",
    "print(\"my name is \",first_name,\"and last name is\",last_name )\n"
   ]
  },
  {
   "cell_type": "code",
   "execution_count": 6,
   "id": "3b55aa55",
   "metadata": {},
   "outputs": [],
   "source": [
    "_age = 25\n",
    "name7 = \"Sarah\"\n",
    "n7ame = \"Joshnson\"\n",
    "country = \"Nepal\"\n",
    "Country = \"USA\""
   ]
  },
  {
   "cell_type": "code",
   "execution_count": 8,
   "id": "7029ff35",
   "metadata": {},
   "outputs": [
    {
     "ename": "SyntaxError",
     "evalue": "invalid decimal literal (152821148.py, line 1)",
     "output_type": "error",
     "traceback": [
      "\u001b[0;36m  Cell \u001b[0;32mIn[8], line 1\u001b[0;36m\u001b[0m\n\u001b[0;31m    7name = \"Ram\"# varaible name starting from numbers are not accepted\u001b[0m\n\u001b[0m    ^\u001b[0m\n\u001b[0;31mSyntaxError\u001b[0m\u001b[0;31m:\u001b[0m invalid decimal literal\n"
     ]
    }
   ],
   "source": [
    "7name = \"Ram\"# varaible name starting from numbers are not accepted"
   ]
  },
  {
   "cell_type": "code",
   "execution_count": null,
   "id": "11d36ad7",
   "metadata": {},
   "outputs": [],
   "source": [
    "print(\"_age:\",_age)\n",
    "print(\"name7\",name7)\n",
    "print(\"n7ame:\",n7ame)\n",
    "print(\"country:\",country)\n",
    "print(\"Country:\",Country)\n"
   ]
  },
  {
   "cell_type": "code",
   "execution_count": null,
   "id": "af1a8716",
   "metadata": {},
   "outputs": [],
   "source": [
    "name1 = \"Kiran\"\n",
    "age1 = 24\n",
    "print(\"my name is \",name1 ,\"and my age is age1\", age1)\n"
   ]
  },
  {
   "cell_type": "code",
   "execution_count": null,
   "id": "db1ded75",
   "metadata": {},
   "outputs": [],
   "source": [
    "type(name1)"
   ]
  },
  {
   "cell_type": "code",
   "execution_count": null,
   "id": "b1917570",
   "metadata": {},
   "outputs": [],
   "source": [
    "type(age1)"
   ]
  },
  {
   "cell_type": "code",
   "execution_count": null,
   "id": "dfe8abd7",
   "metadata": {},
   "outputs": [],
   "source": [
    "ls = [1 ,24,5 ]\n",
    "type(ls)"
   ]
  },
  {
   "cell_type": "code",
   "execution_count": null,
   "id": "750f8b4b",
   "metadata": {},
   "outputs": [],
   "source": [
    "x = int(2.45) # forcing to change from float to integer\n",
    "y = str(45)# changing int to string\n",
    "z = float(2)# changing to float\n",
    "x,y,z"
   ]
  },
  {
   "cell_type": "markdown",
   "id": "ec50a315",
   "metadata": {},
   "source": [
    "# Arthimetic Operation"
   ]
  },
  {
   "cell_type": "code",
   "execution_count": null,
   "id": "a8d5cc67",
   "metadata": {},
   "outputs": [],
   "source": [
    "2 + 2 # addition"
   ]
  },
  {
   "cell_type": "code",
   "execution_count": null,
   "id": "e7353163",
   "metadata": {},
   "outputs": [],
   "source": [
    "2 - 2 # substraction"
   ]
  },
  {
   "cell_type": "code",
   "execution_count": null,
   "id": "5a3a571e",
   "metadata": {},
   "outputs": [],
   "source": [
    "2 * 3 # multiplication"
   ]
  },
  {
   "cell_type": "code",
   "execution_count": null,
   "id": "1fa9123a",
   "metadata": {},
   "outputs": [],
   "source": [
    "3 / 3 # division"
   ]
  },
  {
   "cell_type": "code",
   "execution_count": null,
   "id": "363dfe0c",
   "metadata": {},
   "outputs": [],
   "source": [
    "2 ** 2 # 2 to the powert 3"
   ]
  },
  {
   "cell_type": "code",
   "execution_count": null,
   "id": "2a782b8c",
   "metadata": {},
   "outputs": [],
   "source": [
    "5 % 2 # remainder"
   ]
  },
  {
   "cell_type": "code",
   "execution_count": 9,
   "id": "b6e22eb3",
   "metadata": {},
   "outputs": [
    {
     "data": {
      "text/plain": [
       "2"
      ]
     },
     "execution_count": 9,
     "metadata": {},
     "output_type": "execute_result"
    }
   ],
   "source": [
    "5 % 3 # floor division"
   ]
  },
  {
   "cell_type": "markdown",
   "id": "bd1dcbb8",
   "metadata": {},
   "source": [
    "# Exercise"
   ]
  },
  {
   "cell_type": "code",
   "execution_count": 10,
   "id": "aa93106e",
   "metadata": {},
   "outputs": [
    {
     "data": {
      "text/plain": [
       "8.166666666666666"
      ]
     },
     "execution_count": 10,
     "metadata": {},
     "output_type": "execute_result"
    }
   ],
   "source": [
    " x = 7 * (3 + 8 -4)/6\n",
    "x"
   ]
  },
  {
   "cell_type": "code",
   "execution_count": 11,
   "id": "ab0c6c0c",
   "metadata": {},
   "outputs": [
    {
     "data": {
      "text/plain": [
       "0.16666666666666607"
      ]
     },
     "execution_count": 11,
     "metadata": {},
     "output_type": "execute_result"
    }
   ],
   "source": [
    "y = (x)% 2\n",
    "y"
   ]
  },
  {
   "cell_type": "code",
   "execution_count": 12,
   "id": "03f65e2a",
   "metadata": {},
   "outputs": [
    {
     "data": {
      "text/plain": [
       "0.00462962962962958"
      ]
     },
     "execution_count": 12,
     "metadata": {},
     "output_type": "execute_result"
    }
   ],
   "source": [
    "z = y ** 3\n",
    "z"
   ]
  },
  {
   "cell_type": "code",
   "execution_count": 13,
   "id": "17113fd5",
   "metadata": {},
   "outputs": [
    {
     "data": {
      "text/plain": [
       "0.0"
      ]
     },
     "execution_count": 13,
     "metadata": {},
     "output_type": "execute_result"
    }
   ],
   "source": [
    "k = z//3\n",
    "k"
   ]
  },
  {
   "cell_type": "code",
   "execution_count": 14,
   "id": "e6c8d1bf",
   "metadata": {},
   "outputs": [
    {
     "data": {
      "text/plain": [
       "3"
      ]
     },
     "execution_count": 14,
     "metadata": {},
     "output_type": "execute_result"
    }
   ],
   "source": [
    "x = 3\n",
    "x"
   ]
  },
  {
   "cell_type": "code",
   "execution_count": 15,
   "id": "49ed6617",
   "metadata": {},
   "outputs": [
    {
     "data": {
      "text/plain": [
       "8"
      ]
     },
     "execution_count": 15,
     "metadata": {},
     "output_type": "execute_result"
    }
   ],
   "source": [
    "x += 5 # its adds 5 in x\n",
    "x"
   ]
  },
  {
   "cell_type": "code",
   "execution_count": 16,
   "id": "c133eefc",
   "metadata": {},
   "outputs": [
    {
     "data": {
      "text/plain": [
       "40"
      ]
     },
     "execution_count": 16,
     "metadata": {},
     "output_type": "execute_result"
    }
   ],
   "source": [
    "x *= 5\n",
    "x"
   ]
  },
  {
   "cell_type": "markdown",
   "id": "c923378c",
   "metadata": {},
   "source": [
    "# comparision operation"
   ]
  },
  {
   "cell_type": "code",
   "execution_count": 17,
   "id": "d430be42",
   "metadata": {},
   "outputs": [
    {
     "data": {
      "text/plain": [
       "False"
      ]
     },
     "execution_count": 17,
     "metadata": {},
     "output_type": "execute_result"
    }
   ],
   "source": [
    "2 == 3"
   ]
  },
  {
   "cell_type": "code",
   "execution_count": 18,
   "id": "1a7539fc",
   "metadata": {},
   "outputs": [
    {
     "data": {
      "text/plain": [
       "True"
      ]
     },
     "execution_count": 18,
     "metadata": {},
     "output_type": "execute_result"
    }
   ],
   "source": [
    "2 != 3"
   ]
  },
  {
   "cell_type": "code",
   "execution_count": 19,
   "id": "84f600f5",
   "metadata": {},
   "outputs": [
    {
     "data": {
      "text/plain": [
       "True"
      ]
     },
     "execution_count": 19,
     "metadata": {},
     "output_type": "execute_result"
    }
   ],
   "source": [
    "2 < 3"
   ]
  },
  {
   "cell_type": "code",
   "execution_count": 20,
   "id": "5b958fa6",
   "metadata": {},
   "outputs": [
    {
     "data": {
      "text/plain": [
       "True"
      ]
     },
     "execution_count": 20,
     "metadata": {},
     "output_type": "execute_result"
    }
   ],
   "source": [
    "3 <= 3"
   ]
  },
  {
   "cell_type": "markdown",
   "id": "863718a7",
   "metadata": {},
   "source": [
    "# Logical Operation"
   ]
  },
  {
   "cell_type": "code",
   "execution_count": 21,
   "id": "ffba5b9e",
   "metadata": {},
   "outputs": [
    {
     "data": {
      "text/plain": [
       "True"
      ]
     },
     "execution_count": 21,
     "metadata": {},
     "output_type": "execute_result"
    }
   ],
   "source": [
    "2 > 1 and 3 < 5"
   ]
  },
  {
   "cell_type": "code",
   "execution_count": 22,
   "id": "d04339ed",
   "metadata": {},
   "outputs": [
    {
     "data": {
      "text/plain": [
       "True"
      ]
     },
     "execution_count": 22,
     "metadata": {},
     "output_type": "execute_result"
    }
   ],
   "source": [
    "2 < 3 or 5 < 3"
   ]
  },
  {
   "cell_type": "code",
   "execution_count": 23,
   "id": "1f182ea6",
   "metadata": {},
   "outputs": [
    {
     "data": {
      "text/plain": [
       "False"
      ]
     },
     "execution_count": 23,
     "metadata": {},
     "output_type": "execute_result"
    }
   ],
   "source": [
    "2 < 3 and 5 < 3"
   ]
  },
  {
   "cell_type": "code",
   "execution_count": 24,
   "id": "364b7faa",
   "metadata": {},
   "outputs": [
    {
     "data": {
      "text/plain": [
       "True"
      ]
     },
     "execution_count": 24,
     "metadata": {},
     "output_type": "execute_result"
    }
   ],
   "source": [
    "2 > 1 or 3 < 5"
   ]
  },
  {
   "cell_type": "markdown",
   "id": "812fa2bf",
   "metadata": {},
   "source": [
    "# logical opertator procedure"
   ]
  },
  {
   "cell_type": "code",
   "execution_count": 25,
   "id": "09d1394f",
   "metadata": {},
   "outputs": [
    {
     "data": {
      "text/plain": [
       "False"
      ]
     },
     "execution_count": 25,
     "metadata": {},
     "output_type": "execute_result"
    }
   ],
   "source": [
    "False or True  and not True"
   ]
  },
  {
   "cell_type": "markdown",
   "id": "2b5e6420",
   "metadata": {},
   "source": [
    "# Identity Operators "
   ]
  },
  {
   "cell_type": "code",
   "execution_count": 26,
   "id": "15b8de66",
   "metadata": {},
   "outputs": [
    {
     "data": {
      "text/plain": [
       "True"
      ]
     },
     "execution_count": 26,
     "metadata": {},
     "output_type": "execute_result"
    }
   ],
   "source": [
    "x = 2\n",
    "type(x) is int "
   ]
  },
  {
   "cell_type": "code",
   "execution_count": 27,
   "id": "611efdb0",
   "metadata": {},
   "outputs": [
    {
     "data": {
      "text/plain": [
       "False"
      ]
     },
     "execution_count": 27,
     "metadata": {},
     "output_type": "execute_result"
    }
   ],
   "source": [
    "y = 2.32\n",
    "type(y) is int"
   ]
  },
  {
   "cell_type": "code",
   "execution_count": 28,
   "id": "99167a66",
   "metadata": {},
   "outputs": [
    {
     "data": {
      "text/plain": [
       "True"
      ]
     },
     "execution_count": 28,
     "metadata": {},
     "output_type": "execute_result"
    }
   ],
   "source": [
    "type(y) is not int "
   ]
  },
  {
   "cell_type": "code",
   "execution_count": 29,
   "id": "096ce14f",
   "metadata": {},
   "outputs": [
    {
     "data": {
      "text/plain": [
       "True"
      ]
     },
     "execution_count": 29,
     "metadata": {},
     "output_type": "execute_result"
    }
   ],
   "source": [
    "type(y) is float"
   ]
  },
  {
   "cell_type": "markdown",
   "id": "d45adeef",
   "metadata": {},
   "source": [
    "# membership Operation"
   ]
  },
  {
   "cell_type": "code",
   "execution_count": 30,
   "id": "e2d991a9",
   "metadata": {},
   "outputs": [
    {
     "data": {
      "text/plain": [
       "True"
      ]
     },
     "execution_count": 30,
     "metadata": {},
     "output_type": "execute_result"
    }
   ],
   "source": [
    "'h' in 'hello'"
   ]
  },
  {
   "cell_type": "code",
   "execution_count": 31,
   "id": "3d688d1f",
   "metadata": {},
   "outputs": [
    {
     "data": {
      "text/plain": [
       "True"
      ]
     },
     "execution_count": 31,
     "metadata": {},
     "output_type": "execute_result"
    }
   ],
   "source": [
    "'llo' in 'hello'"
   ]
  },
  {
   "cell_type": "code",
   "execution_count": 32,
   "id": "31057227",
   "metadata": {},
   "outputs": [
    {
     "data": {
      "text/plain": [
       "False"
      ]
     },
     "execution_count": 32,
     "metadata": {},
     "output_type": "execute_result"
    }
   ],
   "source": [
    "'m' in 'hello'"
   ]
  },
  {
   "cell_type": "markdown",
   "id": "ab4c9cab",
   "metadata": {},
   "source": [
    "# Bitwise Operators"
   ]
  },
  {
   "cell_type": "code",
   "execution_count": 33,
   "id": "d3f01efe",
   "metadata": {},
   "outputs": [
    {
     "data": {
      "text/plain": [
       "2"
      ]
     },
     "execution_count": 33,
     "metadata": {},
     "output_type": "execute_result"
    }
   ],
   "source": [
    " 2 & 3"
   ]
  },
  {
   "cell_type": "code",
   "execution_count": 34,
   "id": "bc99c0f5",
   "metadata": {},
   "outputs": [
    {
     "data": {
      "text/plain": [
       "3"
      ]
     },
     "execution_count": 34,
     "metadata": {},
     "output_type": "execute_result"
    }
   ],
   "source": [
    "2 | 3"
   ]
  },
  {
   "cell_type": "markdown",
   "id": "890807c2",
   "metadata": {},
   "source": [
    "# Pyrhon List"
   ]
  },
  {
   "cell_type": "code",
   "execution_count": 35,
   "id": "952b8921",
   "metadata": {},
   "outputs": [
    {
     "name": "stdout",
     "output_type": "stream",
     "text": [
      "['Apple', 'Banana', 'Peach']\n"
     ]
    },
    {
     "data": {
      "text/plain": [
       "list"
      ]
     },
     "execution_count": 35,
     "metadata": {},
     "output_type": "execute_result"
    }
   ],
   "source": [
    "fruits = [ \"Apple\",\"Banana\",\"Peach\"]\n",
    "print(fruits)\n",
    "type(fruits)"
   ]
  },
  {
   "cell_type": "code",
   "execution_count": 36,
   "id": "dda06f39",
   "metadata": {},
   "outputs": [
    {
     "name": "stdout",
     "output_type": "stream",
     "text": [
      "[1, 2, 3, 4, 5]\n"
     ]
    },
    {
     "data": {
      "text/plain": [
       "list"
      ]
     },
     "execution_count": 36,
     "metadata": {},
     "output_type": "execute_result"
    }
   ],
   "source": [
    "Num = [1,2,3,4,5]\n",
    "print(Num)\n",
    "type(fruits)"
   ]
  },
  {
   "cell_type": "code",
   "execution_count": 37,
   "id": "5d62ad35",
   "metadata": {},
   "outputs": [
    {
     "data": {
      "text/plain": [
       "3"
      ]
     },
     "execution_count": 37,
     "metadata": {},
     "output_type": "execute_result"
    }
   ],
   "source": [
    "len(fruits)"
   ]
  },
  {
   "cell_type": "code",
   "execution_count": 38,
   "id": "73d564aa",
   "metadata": {},
   "outputs": [
    {
     "name": "stdout",
     "output_type": "stream",
     "text": [
      "[1, 3.0, 'Hello', True]\n"
     ]
    },
    {
     "data": {
      "text/plain": [
       "list"
      ]
     },
     "execution_count": 38,
     "metadata": {},
     "output_type": "execute_result"
    }
   ],
   "source": [
    "myList = [1 , 3.0, 'Hello',True]\n",
    "print(myList)\n",
    "type(myList)"
   ]
  },
  {
   "cell_type": "code",
   "execution_count": 39,
   "id": "f103bf0d",
   "metadata": {},
   "outputs": [
    {
     "data": {
      "text/plain": [
       "'Peach'"
      ]
     },
     "execution_count": 39,
     "metadata": {},
     "output_type": "execute_result"
    }
   ],
   "source": [
    "fruits[2]"
   ]
  },
  {
   "cell_type": "code",
   "execution_count": 40,
   "id": "892f16d5",
   "metadata": {},
   "outputs": [
    {
     "data": {
      "text/plain": [
       "['Banana', 'Peach']"
      ]
     },
     "execution_count": 40,
     "metadata": {},
     "output_type": "execute_result"
    }
   ],
   "source": [
    "fruits[1:3] #it include 1 but not 3"
   ]
  },
  {
   "cell_type": "code",
   "execution_count": 41,
   "id": "16a52c18",
   "metadata": {},
   "outputs": [
    {
     "data": {
      "text/plain": [
       "[3, 4, 5]"
      ]
     },
     "execution_count": 41,
     "metadata": {},
     "output_type": "execute_result"
    }
   ],
   "source": [
    "Num[2:]"
   ]
  },
  {
   "cell_type": "code",
   "execution_count": 42,
   "id": "a4108d4f",
   "metadata": {},
   "outputs": [
    {
     "data": {
      "text/plain": [
       "[1, 2, 3]"
      ]
     },
     "execution_count": 42,
     "metadata": {},
     "output_type": "execute_result"
    }
   ],
   "source": [
    "Num[:3]"
   ]
  },
  {
   "cell_type": "code",
   "execution_count": 43,
   "id": "2a497c6f",
   "metadata": {},
   "outputs": [
    {
     "data": {
      "text/plain": [
       "[3, 4]"
      ]
     },
     "execution_count": 43,
     "metadata": {},
     "output_type": "execute_result"
    }
   ],
   "source": [
    "Num[2: 4]"
   ]
  },
  {
   "cell_type": "code",
   "execution_count": 44,
   "id": "38ae8928",
   "metadata": {},
   "outputs": [
    {
     "data": {
      "text/plain": [
       "True"
      ]
     },
     "execution_count": 44,
     "metadata": {},
     "output_type": "execute_result"
    }
   ],
   "source": [
    "'Banana' in fruits"
   ]
  },
  {
   "cell_type": "code",
   "execution_count": 45,
   "id": "33284b69",
   "metadata": {},
   "outputs": [
    {
     "data": {
      "text/plain": [
       "False"
      ]
     },
     "execution_count": 45,
     "metadata": {},
     "output_type": "execute_result"
    }
   ],
   "source": [
    "'Mango' in fruits"
   ]
  },
  {
   "cell_type": "markdown",
   "id": "09bde993",
   "metadata": {},
   "source": [
    "# Change list items"
   ]
  },
  {
   "cell_type": "code",
   "execution_count": 46,
   "id": "fc04998f",
   "metadata": {},
   "outputs": [
    {
     "data": {
      "text/plain": [
       "['Apple', 'Mango', 'Peach']"
      ]
     },
     "execution_count": 46,
     "metadata": {},
     "output_type": "execute_result"
    }
   ],
   "source": [
    "fruits[1] = 'Mango'# its reasign the index 1 value to given value\n",
    "fruits"
   ]
  },
  {
   "cell_type": "code",
   "execution_count": 47,
   "id": "1df450c8",
   "metadata": {},
   "outputs": [
    {
     "data": {
      "text/plain": [
       "['Apple', 'Mango', 'Peach']"
      ]
     },
     "execution_count": 47,
     "metadata": {},
     "output_type": "execute_result"
    }
   ],
   "source": [
    "fruits"
   ]
  },
  {
   "cell_type": "code",
   "execution_count": 48,
   "id": "be0d5a94",
   "metadata": {},
   "outputs": [
    {
     "data": {
      "text/plain": [
       "['Apple', 'Mang', 'peac']"
      ]
     },
     "execution_count": 48,
     "metadata": {},
     "output_type": "execute_result"
    }
   ],
   "source": [
    "fruits[1:3] = ['Mang','peac']\n",
    "fruits"
   ]
  },
  {
   "cell_type": "code",
   "execution_count": 49,
   "id": "d37608ab",
   "metadata": {},
   "outputs": [
    {
     "data": {
      "text/plain": [
       "['Apple', 'Mang', 'peac']"
      ]
     },
     "execution_count": 49,
     "metadata": {},
     "output_type": "execute_result"
    }
   ],
   "source": [
    "fruits"
   ]
  },
  {
   "cell_type": "code",
   "execution_count": 50,
   "id": "e2b5ae98",
   "metadata": {},
   "outputs": [
    {
     "data": {
      "text/plain": [
       "['Apple', 'Mang', 'Mango', 'Grapes']"
      ]
     },
     "execution_count": 50,
     "metadata": {},
     "output_type": "execute_result"
    }
   ],
   "source": [
    "fruits[2:3] = ['Mango','Grapes']\n",
    "fruits"
   ]
  },
  {
   "cell_type": "code",
   "execution_count": 51,
   "id": "99e829bf",
   "metadata": {},
   "outputs": [],
   "source": [
    "fruits[3:5] = ['Grape']"
   ]
  },
  {
   "cell_type": "code",
   "execution_count": 52,
   "id": "c52ef6da",
   "metadata": {},
   "outputs": [
    {
     "data": {
      "text/plain": [
       "['Apple', 'Mang', 'Mango', 'Grape']"
      ]
     },
     "execution_count": 52,
     "metadata": {},
     "output_type": "execute_result"
    }
   ],
   "source": [
    "fruits"
   ]
  },
  {
   "cell_type": "markdown",
   "id": "2b1aa433",
   "metadata": {},
   "source": [
    "# List Methods"
   ]
  },
  {
   "cell_type": "code",
   "execution_count": 53,
   "id": "1681df29",
   "metadata": {},
   "outputs": [
    {
     "data": {
      "text/plain": [
       "['Apple', 'Mang', 'Mango', 'Grape', 'Jackfruit']"
      ]
     },
     "execution_count": 53,
     "metadata": {},
     "output_type": "execute_result"
    }
   ],
   "source": [
    "fruits.append(\"Jackfruit\")\n",
    "fruits"
   ]
  },
  {
   "cell_type": "code",
   "execution_count": 54,
   "id": "7cb6193a",
   "metadata": {},
   "outputs": [
    {
     "data": {
      "text/plain": [
       "'Jackfruit'"
      ]
     },
     "execution_count": 54,
     "metadata": {},
     "output_type": "execute_result"
    }
   ],
   "source": [
    "fruits.pop()"
   ]
  },
  {
   "cell_type": "code",
   "execution_count": 56,
   "id": "51ebcc45",
   "metadata": {},
   "outputs": [
    {
     "data": {
      "text/plain": [
       "'Mango'"
      ]
     },
     "execution_count": 56,
     "metadata": {},
     "output_type": "execute_result"
    }
   ],
   "source": [
    "fruits.pop(2)"
   ]
  },
  {
   "cell_type": "code",
   "execution_count": null,
   "id": "f77c8e6d",
   "metadata": {},
   "outputs": [],
   "source": []
  }
 ],
 "metadata": {
  "kernelspec": {
   "display_name": "Python 3 (ipykernel)",
   "language": "python",
   "name": "python3"
  },
  "language_info": {
   "codemirror_mode": {
    "name": "ipython",
    "version": 3
   },
   "file_extension": ".py",
   "mimetype": "text/x-python",
   "name": "python",
   "nbconvert_exporter": "python",
   "pygments_lexer": "ipython3",
   "version": "3.11.5"
  }
 },
 "nbformat": 4,
 "nbformat_minor": 5
}
