{
 "cells": [
  {
   "cell_type": "markdown",
   "id": "9d7db020",
   "metadata": {},
   "source": [
    "# Python For Data Science"
   ]
  },
  {
   "cell_type": "code",
   "execution_count": 6,
   "id": "9316562b",
   "metadata": {},
   "outputs": [
    {
     "name": "stdout",
     "output_type": "stream",
     "text": [
      "Hello World\n"
     ]
    }
   ],
   "source": [
    "# Printing Hello world\n",
    "print(\"Hello World\")"
   ]
  },
  {
   "cell_type": "code",
   "execution_count": 7,
   "id": "851ddc7d",
   "metadata": {},
   "outputs": [
    {
     "name": "stdout",
     "output_type": "stream",
     "text": [
      "I love python\n"
     ]
    }
   ],
   "source": [
    "'''This is multiple line comment'''\n",
    "print(\"I love python\")"
   ]
  },
  {
   "cell_type": "code",
   "execution_count": 8,
   "id": "ed5db186",
   "metadata": {},
   "outputs": [],
   "source": [
    "# This is single line comment"
   ]
  },
  {
   "cell_type": "markdown",
   "id": "42c89c6c",
   "metadata": {},
   "source": [
    "###### Variables are containers that hold data values."
   ]
  },
  {
   "cell_type": "code",
   "execution_count": 9,
   "id": "70069d97",
   "metadata": {},
   "outputs": [
    {
     "name": "stdout",
     "output_type": "stream",
     "text": [
      "2\n"
     ]
    }
   ],
   "source": [
    "x = 2 # Declearing variable\n",
    "X = 5\n",
    "print(x)"
   ]
  },
  {
   "cell_type": "code",
   "execution_count": 10,
   "id": "685b045d",
   "metadata": {},
   "outputs": [
    {
     "name": "stdout",
     "output_type": "stream",
     "text": [
      "5\n"
     ]
    }
   ],
   "source": [
    "print(X)"
   ]
  },
  {
   "cell_type": "code",
   "execution_count": 11,
   "id": "2dcf8351",
   "metadata": {},
   "outputs": [
    {
     "name": "stdout",
     "output_type": "stream",
     "text": [
      "my name is  Kiran and last name is Paudel\n"
     ]
    }
   ],
   "source": [
    "# variables can hold string values (text) as well.\n",
    "#String needs to be enclosed inside a pair of single or double quotes.\n",
    "\n",
    "first_name = \"Kiran\" # Assigning string to a variable\n",
    "last_name = \"Paudel\"\n",
    "print(\"my name is \",first_name,\"and last name is\",last_name )\n"
   ]
  },
  {
   "cell_type": "code",
   "execution_count": 12,
   "id": "3b55aa55",
   "metadata": {},
   "outputs": [],
   "source": [
    "_age = 25\n",
    "name7 = \"Sarah\"\n",
    "n7ame = \"Joshnson\"\n",
    "country = \"Nepal\"\n",
    "Country = \"USA\""
   ]
  },
  {
   "cell_type": "code",
   "execution_count": 13,
   "id": "7029ff35",
   "metadata": {},
   "outputs": [],
   "source": [
    " 7name = \"Ram\"# Variable name starting from numbers are not accepted."
   ]
  },
  {
   "cell_type": "code",
   "execution_count": 14,
   "id": "11d36ad7",
   "metadata": {},
   "outputs": [
    {
     "name": "stdout",
     "output_type": "stream",
     "text": [
      "_age: 25\n",
      "name7 Sarah\n",
      "n7ame: Joshnson\n",
      "country: Nepal\n",
      "Country: USA\n"
     ]
    }
   ],
   "source": [
    "# variable name which are accepted\n",
    "print(\"_age:\",_age)\n",
    "print(\"name7\",name7)\n",
    "print(\"n7ame:\",n7ame)\n",
    "print(\"country:\",country)\n",
    "print(\"Country:\",Country)\n"
   ]
  },
  {
   "cell_type": "code",
   "execution_count": 15,
   "id": "af1a8716",
   "metadata": {},
   "outputs": [
    {
     "name": "stdout",
     "output_type": "stream",
     "text": [
      "my name is  Kiran and my age is age1 24\n"
     ]
    }
   ],
   "source": [
    "name1 = \"Kiran\"\n",
    "age1 = 24\n",
    "print(\"my name is \",name1 ,\"and my age is age1\", age1)\n"
   ]
  },
  {
   "cell_type": "markdown",
   "id": "3142ab29",
   "metadata": {},
   "source": [
    "     checking data types ⬇️"
   ]
  },
  {
   "cell_type": "code",
   "execution_count": 16,
   "id": "db1ded75",
   "metadata": {},
   "outputs": [
    {
     "data": {
      "text/plain": [
       "str"
      ]
     },
     "execution_count": 16,
     "metadata": {},
     "output_type": "execute_result"
    }
   ],
   "source": [
    "type(name1) # Text is String : str"
   ]
  },
  {
   "cell_type": "code",
   "execution_count": 17,
   "id": "b1917570",
   "metadata": {},
   "outputs": [
    {
     "data": {
      "text/plain": [
       "int"
      ]
     },
     "execution_count": 17,
     "metadata": {},
     "output_type": "execute_result"
    }
   ],
   "source": [
    "type(age1) # integer"
   ]
  },
  {
   "cell_type": "code",
   "execution_count": 18,
   "id": "dfe8abd7",
   "metadata": {},
   "outputs": [
    {
     "data": {
      "text/plain": [
       "list"
      ]
     },
     "execution_count": 18,
     "metadata": {},
     "output_type": "execute_result"
    }
   ],
   "source": [
    "ls = [1 ,24,5 ] # list\n",
    "type(ls)"
   ]
  },
  {
   "cell_type": "code",
   "execution_count": 19,
   "id": "750f8b4b",
   "metadata": {},
   "outputs": [
    {
     "data": {
      "text/plain": [
       "(2, '45', 2.0)"
      ]
     },
     "execution_count": 19,
     "metadata": {},
     "output_type": "execute_result"
    }
   ],
   "source": [
    "x = int(2.45) # forcing to change from float to integer\n",
    "y = str(45)# changing int to string\n",
    "z = float(2)# changing to float\n",
    "x,y,z"
   ]
  },
  {
   "cell_type": "markdown",
   "id": "ec50a315",
   "metadata": {},
   "source": [
    "# Arthimetic Operation"
   ]
  },
  {
   "cell_type": "code",
   "execution_count": 14,
   "id": "a8d5cc67",
   "metadata": {},
   "outputs": [
    {
     "data": {
      "text/plain": [
       "4"
      ]
     },
     "execution_count": 14,
     "metadata": {},
     "output_type": "execute_result"
    }
   ],
   "source": [
    "2 + 2 # Addition"
   ]
  },
  {
   "cell_type": "code",
   "execution_count": 15,
   "id": "e7353163",
   "metadata": {},
   "outputs": [
    {
     "data": {
      "text/plain": [
       "0"
      ]
     },
     "execution_count": 15,
     "metadata": {},
     "output_type": "execute_result"
    }
   ],
   "source": [
    "2 - 2 # Substraction"
   ]
  },
  {
   "cell_type": "code",
   "execution_count": 16,
   "id": "5a3a571e",
   "metadata": {},
   "outputs": [
    {
     "data": {
      "text/plain": [
       "6"
      ]
     },
     "execution_count": 16,
     "metadata": {},
     "output_type": "execute_result"
    }
   ],
   "source": [
    "2 * 3 # Multiplication"
   ]
  },
  {
   "cell_type": "code",
   "execution_count": 17,
   "id": "1fa9123a",
   "metadata": {},
   "outputs": [
    {
     "data": {
      "text/plain": [
       "1.0"
      ]
     },
     "execution_count": 17,
     "metadata": {},
     "output_type": "execute_result"
    }
   ],
   "source": [
    "3 / 3 # Division"
   ]
  },
  {
   "cell_type": "code",
   "execution_count": 18,
   "id": "363dfe0c",
   "metadata": {},
   "outputs": [
    {
     "data": {
      "text/plain": [
       "4"
      ]
     },
     "execution_count": 18,
     "metadata": {},
     "output_type": "execute_result"
    }
   ],
   "source": [
    "2 ** 2  # Exponentiation ( ** ) or power"
   ]
  },
  {
   "cell_type": "code",
   "execution_count": 19,
   "id": "2a782b8c",
   "metadata": {},
   "outputs": [
    {
     "data": {
      "text/plain": [
       "1"
      ]
     },
     "execution_count": 19,
     "metadata": {},
     "output_type": "execute_result"
    }
   ],
   "source": [
    "5 % 2 # Remainder"
   ]
  },
  {
   "cell_type": "code",
   "execution_count": 20,
   "id": "b6e22eb3",
   "metadata": {},
   "outputs": [
    {
     "data": {
      "text/plain": [
       "2"
      ]
     },
     "execution_count": 20,
     "metadata": {},
     "output_type": "execute_result"
    }
   ],
   "source": [
    "5 % 3 # Floor division"
   ]
  },
  {
   "cell_type": "markdown",
   "id": "bd1dcbb8",
   "metadata": {},
   "source": [
    "# Exercise"
   ]
  },
  {
   "cell_type": "code",
   "execution_count": 21,
   "id": "aa93106e",
   "metadata": {},
   "outputs": [
    {
     "data": {
      "text/plain": [
       "8.166666666666666"
      ]
     },
     "execution_count": 21,
     "metadata": {},
     "output_type": "execute_result"
    }
   ],
   "source": [
    " x = 7 * (3 + 8 -4)/6\n",
    "x"
   ]
  },
  {
   "cell_type": "code",
   "execution_count": 22,
   "id": "ab0c6c0c",
   "metadata": {},
   "outputs": [
    {
     "data": {
      "text/plain": [
       "0.16666666666666607"
      ]
     },
     "execution_count": 22,
     "metadata": {},
     "output_type": "execute_result"
    }
   ],
   "source": [
    "y = (x)% 2\n",
    "y"
   ]
  },
  {
   "cell_type": "code",
   "execution_count": 23,
   "id": "03f65e2a",
   "metadata": {},
   "outputs": [
    {
     "data": {
      "text/plain": [
       "0.00462962962962958"
      ]
     },
     "execution_count": 23,
     "metadata": {},
     "output_type": "execute_result"
    }
   ],
   "source": [
    "z = y ** 3\n",
    "z"
   ]
  },
  {
   "cell_type": "code",
   "execution_count": 24,
   "id": "17113fd5",
   "metadata": {},
   "outputs": [
    {
     "data": {
      "text/plain": [
       "0.0"
      ]
     },
     "execution_count": 24,
     "metadata": {},
     "output_type": "execute_result"
    }
   ],
   "source": [
    "k = z//3\n",
    "k"
   ]
  },
  {
   "cell_type": "code",
   "execution_count": 25,
   "id": "e6c8d1bf",
   "metadata": {},
   "outputs": [
    {
     "data": {
      "text/plain": [
       "3"
      ]
     },
     "execution_count": 25,
     "metadata": {},
     "output_type": "execute_result"
    }
   ],
   "source": [
    "x = 3\n",
    "x"
   ]
  },
  {
   "cell_type": "code",
   "execution_count": 26,
   "id": "49ed6617",
   "metadata": {},
   "outputs": [
    {
     "data": {
      "text/plain": [
       "8"
      ]
     },
     "execution_count": 26,
     "metadata": {},
     "output_type": "execute_result"
    }
   ],
   "source": [
    "x += 5 # its adds 5 in x\n",
    "x"
   ]
  },
  {
   "cell_type": "code",
   "execution_count": 27,
   "id": "c133eefc",
   "metadata": {},
   "outputs": [
    {
     "data": {
      "text/plain": [
       "40"
      ]
     },
     "execution_count": 27,
     "metadata": {},
     "output_type": "execute_result"
    }
   ],
   "source": [
    "x *= 5\n",
    "x"
   ]
  },
  {
   "cell_type": "markdown",
   "id": "c923378c",
   "metadata": {},
   "source": [
    "# comparision operation"
   ]
  },
  {
   "cell_type": "code",
   "execution_count": 28,
   "id": "d430be42",
   "metadata": {},
   "outputs": [
    {
     "data": {
      "text/plain": [
       "False"
      ]
     },
     "execution_count": 28,
     "metadata": {},
     "output_type": "execute_result"
    }
   ],
   "source": [
    "2 == 3"
   ]
  },
  {
   "cell_type": "code",
   "execution_count": 29,
   "id": "1a7539fc",
   "metadata": {},
   "outputs": [
    {
     "data": {
      "text/plain": [
       "True"
      ]
     },
     "execution_count": 29,
     "metadata": {},
     "output_type": "execute_result"
    }
   ],
   "source": [
    "2 != 3"
   ]
  },
  {
   "cell_type": "code",
   "execution_count": 30,
   "id": "84f600f5",
   "metadata": {},
   "outputs": [
    {
     "data": {
      "text/plain": [
       "True"
      ]
     },
     "execution_count": 30,
     "metadata": {},
     "output_type": "execute_result"
    }
   ],
   "source": [
    "2 < 3"
   ]
  },
  {
   "cell_type": "code",
   "execution_count": 31,
   "id": "5b958fa6",
   "metadata": {},
   "outputs": [
    {
     "data": {
      "text/plain": [
       "True"
      ]
     },
     "execution_count": 31,
     "metadata": {},
     "output_type": "execute_result"
    }
   ],
   "source": [
    "3 <= 3"
   ]
  },
  {
   "cell_type": "markdown",
   "id": "863718a7",
   "metadata": {},
   "source": [
    "# Logical Operation"
   ]
  },
  {
   "cell_type": "code",
   "execution_count": 32,
   "id": "ffba5b9e",
   "metadata": {},
   "outputs": [
    {
     "data": {
      "text/plain": [
       "True"
      ]
     },
     "execution_count": 32,
     "metadata": {},
     "output_type": "execute_result"
    }
   ],
   "source": [
    "2 > 1 and 3 < 5"
   ]
  },
  {
   "cell_type": "code",
   "execution_count": 33,
   "id": "d04339ed",
   "metadata": {},
   "outputs": [
    {
     "data": {
      "text/plain": [
       "True"
      ]
     },
     "execution_count": 33,
     "metadata": {},
     "output_type": "execute_result"
    }
   ],
   "source": [
    "2 < 3 or 5 < 3"
   ]
  },
  {
   "cell_type": "code",
   "execution_count": 34,
   "id": "1f182ea6",
   "metadata": {},
   "outputs": [
    {
     "data": {
      "text/plain": [
       "False"
      ]
     },
     "execution_count": 34,
     "metadata": {},
     "output_type": "execute_result"
    }
   ],
   "source": [
    "2 < 3 and 5 < 3"
   ]
  },
  {
   "cell_type": "code",
   "execution_count": 35,
   "id": "364b7faa",
   "metadata": {},
   "outputs": [
    {
     "data": {
      "text/plain": [
       "True"
      ]
     },
     "execution_count": 35,
     "metadata": {},
     "output_type": "execute_result"
    }
   ],
   "source": [
    "2 > 1 or 3 < 5"
   ]
  },
  {
   "cell_type": "markdown",
   "id": "812fa2bf",
   "metadata": {},
   "source": [
    "# Logical Operator Procedure"
   ]
  },
  {
   "cell_type": "code",
   "execution_count": 20,
   "id": "09d1394f",
   "metadata": {},
   "outputs": [
    {
     "data": {
      "text/plain": [
       "False"
      ]
     },
     "execution_count": 20,
     "metadata": {},
     "output_type": "execute_result"
    }
   ],
   "source": [
    "False or True  and not True"
   ]
  },
  {
   "cell_type": "markdown",
   "id": "2b5e6420",
   "metadata": {},
   "source": [
    "# Identity Operators "
   ]
  },
  {
   "cell_type": "markdown",
   "id": "b652b63e",
   "metadata": {},
   "source": [
    "###### The identity operators in Python are used to determine whether a value is of a certain class or type."
   ]
  },
  {
   "cell_type": "code",
   "execution_count": 37,
   "id": "15b8de66",
   "metadata": {},
   "outputs": [
    {
     "data": {
      "text/plain": [
       "True"
      ]
     },
     "execution_count": 37,
     "metadata": {},
     "output_type": "execute_result"
    }
   ],
   "source": [
    "x = 2  # (is) is identify operator\n",
    "type(x) is int "
   ]
  },
  {
   "cell_type": "code",
   "execution_count": 38,
   "id": "611efdb0",
   "metadata": {},
   "outputs": [
    {
     "data": {
      "text/plain": [
       "False"
      ]
     },
     "execution_count": 38,
     "metadata": {},
     "output_type": "execute_result"
    }
   ],
   "source": [
    "y = 2.32\n",
    "type(y) is int"
   ]
  },
  {
   "cell_type": "code",
   "execution_count": 39,
   "id": "99167a66",
   "metadata": {},
   "outputs": [
    {
     "data": {
      "text/plain": [
       "True"
      ]
     },
     "execution_count": 39,
     "metadata": {},
     "output_type": "execute_result"
    }
   ],
   "source": [
    "type(y) is not int "
   ]
  },
  {
   "cell_type": "code",
   "execution_count": 40,
   "id": "096ce14f",
   "metadata": {},
   "outputs": [
    {
     "data": {
      "text/plain": [
       "True"
      ]
     },
     "execution_count": 40,
     "metadata": {},
     "output_type": "execute_result"
    }
   ],
   "source": [
    "type(y) is float"
   ]
  },
  {
   "cell_type": "markdown",
   "id": "d45adeef",
   "metadata": {},
   "source": [
    "# membership Operation"
   ]
  },
  {
   "cell_type": "markdown",
   "id": "68f0df73",
   "metadata": {},
   "source": [
    "      Membership operators are used to test if a sequence is present in an object.\n",
    "      The two membership operators in Python are: * in * not in"
   ]
  },
  {
   "cell_type": "code",
   "execution_count": 41,
   "id": "e2d991a9",
   "metadata": {},
   "outputs": [
    {
     "data": {
      "text/plain": [
       "True"
      ]
     },
     "execution_count": 41,
     "metadata": {},
     "output_type": "execute_result"
    }
   ],
   "source": [
    "'h' in 'hello' #(in) it is membership operation`"
   ]
  },
  {
   "cell_type": "code",
   "execution_count": 42,
   "id": "3d688d1f",
   "metadata": {},
   "outputs": [
    {
     "data": {
      "text/plain": [
       "True"
      ]
     },
     "execution_count": 42,
     "metadata": {},
     "output_type": "execute_result"
    }
   ],
   "source": [
    "'llo' in 'hello'"
   ]
  },
  {
   "cell_type": "code",
   "execution_count": 43,
   "id": "31057227",
   "metadata": {},
   "outputs": [
    {
     "data": {
      "text/plain": [
       "False"
      ]
     },
     "execution_count": 43,
     "metadata": {},
     "output_type": "execute_result"
    }
   ],
   "source": [
    "'m' in 'hello'"
   ]
  },
  {
   "cell_type": "markdown",
   "id": "ab4c9cab",
   "metadata": {},
   "source": [
    "# Bitwise Operators"
   ]
  },
  {
   "cell_type": "code",
   "execution_count": 44,
   "id": "d3f01efe",
   "metadata": {},
   "outputs": [
    {
     "data": {
      "text/plain": [
       "2"
      ]
     },
     "execution_count": 44,
     "metadata": {},
     "output_type": "execute_result"
    }
   ],
   "source": [
    " 2 & 3"
   ]
  },
  {
   "cell_type": "code",
   "execution_count": 45,
   "id": "bc99c0f5",
   "metadata": {},
   "outputs": [
    {
     "data": {
      "text/plain": [
       "3"
      ]
     },
     "execution_count": 45,
     "metadata": {},
     "output_type": "execute_result"
    }
   ],
   "source": [
    "2 | 3"
   ]
  },
  {
   "cell_type": "markdown",
   "id": "890807c2",
   "metadata": {},
   "source": [
    "# Python List"
   ]
  },
  {
   "cell_type": "markdown",
   "id": "86f16050",
   "metadata": {},
   "source": [
    "    List is an ordered collection of items, i.e. each item has an index (position number) associated with\n",
    "    it. The index always starts with zero. So, the first item in the list has index 0, second item has\n",
    "    index 1 and so on."
   ]
  },
  {
   "cell_type": "code",
   "execution_count": 22,
   "id": "952b8921",
   "metadata": {},
   "outputs": [
    {
     "name": "stdout",
     "output_type": "stream",
     "text": [
      "['Apple', 'Banana', 'Peach']\n"
     ]
    },
    {
     "data": {
      "text/plain": [
       "list"
      ]
     },
     "execution_count": 22,
     "metadata": {},
     "output_type": "execute_result"
    }
   ],
   "source": [
    "fruits = [ \"Apple\",\"Banana\",\"Peach\"]\n",
    "print(fruits)\n",
    "type(fruits)"
   ]
  },
  {
   "cell_type": "code",
   "execution_count": 47,
   "id": "dda06f39",
   "metadata": {},
   "outputs": [
    {
     "name": "stdout",
     "output_type": "stream",
     "text": [
      "[1, 2, 3, 4, 5]\n"
     ]
    },
    {
     "data": {
      "text/plain": [
       "list"
      ]
     },
     "execution_count": 47,
     "metadata": {},
     "output_type": "execute_result"
    }
   ],
   "source": [
    "Num = [1,2,3,4,5]\n",
    "print(Num)\n",
    "type(fruits)"
   ]
  },
  {
   "cell_type": "code",
   "execution_count": 48,
   "id": "5d62ad35",
   "metadata": {},
   "outputs": [
    {
     "data": {
      "text/plain": [
       "3"
      ]
     },
     "execution_count": 48,
     "metadata": {},
     "output_type": "execute_result"
    }
   ],
   "source": [
    "len(fruits) # Return length "
   ]
  },
  {
   "cell_type": "code",
   "execution_count": 49,
   "id": "73d564aa",
   "metadata": {},
   "outputs": [
    {
     "name": "stdout",
     "output_type": "stream",
     "text": [
      "[1, 3.0, 'Hello', True]\n"
     ]
    },
    {
     "data": {
      "text/plain": [
       "list"
      ]
     },
     "execution_count": 49,
     "metadata": {},
     "output_type": "execute_result"
    }
   ],
   "source": [
    "myList = [1 , 3.0, 'Hello',True]\n",
    "print(myList)\n",
    "type(myList)"
   ]
  },
  {
   "cell_type": "markdown",
   "id": "ebbf8821",
   "metadata": {},
   "source": [
    "# Accessing list items"
   ]
  },
  {
   "cell_type": "code",
   "execution_count": 50,
   "id": "f103bf0d",
   "metadata": {},
   "outputs": [
    {
     "data": {
      "text/plain": [
       "'Peach'"
      ]
     },
     "execution_count": 50,
     "metadata": {},
     "output_type": "execute_result"
    }
   ],
   "source": [
    "fruits[2]"
   ]
  },
  {
   "cell_type": "code",
   "execution_count": 51,
   "id": "892f16d5",
   "metadata": {},
   "outputs": [
    {
     "data": {
      "text/plain": [
       "['Banana', 'Peach']"
      ]
     },
     "execution_count": 51,
     "metadata": {},
     "output_type": "execute_result"
    }
   ],
   "source": [
    "fruits[1:3] # It include 1 but not 3"
   ]
  },
  {
   "cell_type": "code",
   "execution_count": 52,
   "id": "16a52c18",
   "metadata": {},
   "outputs": [
    {
     "data": {
      "text/plain": [
       "[3, 4, 5]"
      ]
     },
     "execution_count": 52,
     "metadata": {},
     "output_type": "execute_result"
    }
   ],
   "source": [
    "Num[2:]"
   ]
  },
  {
   "cell_type": "code",
   "execution_count": 53,
   "id": "a4108d4f",
   "metadata": {},
   "outputs": [
    {
     "data": {
      "text/plain": [
       "[1, 2, 3]"
      ]
     },
     "execution_count": 53,
     "metadata": {},
     "output_type": "execute_result"
    }
   ],
   "source": [
    "Num[:3]"
   ]
  },
  {
   "cell_type": "code",
   "execution_count": 54,
   "id": "2a497c6f",
   "metadata": {},
   "outputs": [
    {
     "data": {
      "text/plain": [
       "[3, 4]"
      ]
     },
     "execution_count": 54,
     "metadata": {},
     "output_type": "execute_result"
    }
   ],
   "source": [
    "Num[2: 4]"
   ]
  },
  {
   "cell_type": "code",
   "execution_count": 55,
   "id": "38ae8928",
   "metadata": {},
   "outputs": [
    {
     "data": {
      "text/plain": [
       "True"
      ]
     },
     "execution_count": 55,
     "metadata": {},
     "output_type": "execute_result"
    }
   ],
   "source": [
    "'Banana' in fruits"
   ]
  },
  {
   "cell_type": "code",
   "execution_count": 56,
   "id": "33284b69",
   "metadata": {},
   "outputs": [
    {
     "data": {
      "text/plain": [
       "False"
      ]
     },
     "execution_count": 56,
     "metadata": {},
     "output_type": "execute_result"
    }
   ],
   "source": [
    "'Mango' in fruits"
   ]
  },
  {
   "cell_type": "markdown",
   "id": "09bde993",
   "metadata": {},
   "source": [
    "# Change list items"
   ]
  },
  {
   "cell_type": "code",
   "execution_count": 57,
   "id": "fc04998f",
   "metadata": {},
   "outputs": [
    {
     "data": {
      "text/plain": [
       "['Apple', 'Mango', 'Peach']"
      ]
     },
     "execution_count": 57,
     "metadata": {},
     "output_type": "execute_result"
    }
   ],
   "source": [
    "fruits[1] = 'Mango'# its reasign the index 1 value to given value\n",
    "fruits"
   ]
  },
  {
   "cell_type": "code",
   "execution_count": 58,
   "id": "1df450c8",
   "metadata": {},
   "outputs": [
    {
     "data": {
      "text/plain": [
       "['Apple', 'Mango', 'Peach']"
      ]
     },
     "execution_count": 58,
     "metadata": {},
     "output_type": "execute_result"
    }
   ],
   "source": [
    "fruits"
   ]
  },
  {
   "cell_type": "code",
   "execution_count": 59,
   "id": "be0d5a94",
   "metadata": {},
   "outputs": [
    {
     "data": {
      "text/plain": [
       "['Apple', 'Mang', 'peac']"
      ]
     },
     "execution_count": 59,
     "metadata": {},
     "output_type": "execute_result"
    }
   ],
   "source": [
    "fruits[1:3] = ['Mang','peac']\n",
    "fruits"
   ]
  },
  {
   "cell_type": "code",
   "execution_count": 25,
   "id": "0bda5a24",
   "metadata": {},
   "outputs": [
    {
     "data": {
      "text/plain": [
       "['Peach', 'Banana', 'Apple']"
      ]
     },
     "execution_count": 25,
     "metadata": {},
     "output_type": "execute_result"
    }
   ],
   "source": [
    "fruits[::-1] # It reverse"
   ]
  },
  {
   "cell_type": "code",
   "execution_count": 60,
   "id": "d37608ab",
   "metadata": {},
   "outputs": [
    {
     "data": {
      "text/plain": [
       "['Apple', 'Mang', 'peac']"
      ]
     },
     "execution_count": 60,
     "metadata": {},
     "output_type": "execute_result"
    }
   ],
   "source": [
    "fruits"
   ]
  },
  {
   "cell_type": "code",
   "execution_count": 61,
   "id": "e2b5ae98",
   "metadata": {},
   "outputs": [
    {
     "data": {
      "text/plain": [
       "['Apple', 'Mang', 'Mango', 'Grapes']"
      ]
     },
     "execution_count": 61,
     "metadata": {},
     "output_type": "execute_result"
    }
   ],
   "source": [
    "fruits[2:3] = ['Mango','Grapes']\n",
    "fruits"
   ]
  },
  {
   "cell_type": "code",
   "execution_count": 62,
   "id": "99e829bf",
   "metadata": {},
   "outputs": [],
   "source": [
    "fruits[3:5] = ['Grape']"
   ]
  },
  {
   "cell_type": "code",
   "execution_count": 63,
   "id": "c52ef6da",
   "metadata": {},
   "outputs": [
    {
     "data": {
      "text/plain": [
       "['Apple', 'Mang', 'Mango', 'Grape']"
      ]
     },
     "execution_count": 63,
     "metadata": {},
     "output_type": "execute_result"
    }
   ],
   "source": [
    "fruits"
   ]
  },
  {
   "cell_type": "markdown",
   "id": "2b1aa433",
   "metadata": {},
   "source": [
    "# List Methods"
   ]
  },
  {
   "cell_type": "code",
   "execution_count": 64,
   "id": "52eb89d0",
   "metadata": {},
   "outputs": [
    {
     "data": {
      "text/plain": [
       "['Apple', 'berry', 'Mang', 'Mango', 'Grape']"
      ]
     },
     "execution_count": 64,
     "metadata": {},
     "output_type": "execute_result"
    }
   ],
   "source": [
    "fruits.insert(1,\"berry\") # it insert the value using index\n",
    "fruits"
   ]
  },
  {
   "cell_type": "code",
   "execution_count": 65,
   "id": "1681df29",
   "metadata": {},
   "outputs": [
    {
     "data": {
      "text/plain": [
       "['Apple', 'berry', 'Mang', 'Mango', 'Grape', 'Jackfruit']"
      ]
     },
     "execution_count": 65,
     "metadata": {},
     "output_type": "execute_result"
    }
   ],
   "source": [
    "fruits.append(\"Jackfruit\") # it adds item to the last position of list\n",
    "fruits"
   ]
  },
  {
   "cell_type": "code",
   "execution_count": 66,
   "id": "7cb6193a",
   "metadata": {},
   "outputs": [
    {
     "data": {
      "text/plain": [
       "'Jackfruit'"
      ]
     },
     "execution_count": 66,
     "metadata": {},
     "output_type": "execute_result"
    }
   ],
   "source": [
    "fruits.pop() # it remove the last item from a list"
   ]
  },
  {
   "cell_type": "code",
   "execution_count": 67,
   "id": "51ebcc45",
   "metadata": {},
   "outputs": [
    {
     "data": {
      "text/plain": [
       "'Mang'"
      ]
     },
     "execution_count": 67,
     "metadata": {},
     "output_type": "execute_result"
    }
   ],
   "source": [
    "fruits.pop(2) # it remove the item belong to index 2"
   ]
  },
  {
   "cell_type": "code",
   "execution_count": 68,
   "id": "f77c8e6d",
   "metadata": {},
   "outputs": [
    {
     "data": {
      "text/plain": [
       "['Apple', 'berry', 'Mango']"
      ]
     },
     "execution_count": 68,
     "metadata": {},
     "output_type": "execute_result"
    }
   ],
   "source": [
    "fruits.remove(\"Grape\")#it remove Grape from the list\n",
    "fruits"
   ]
  },
  {
   "cell_type": "code",
   "execution_count": 69,
   "id": "f055eb1d",
   "metadata": {},
   "outputs": [
    {
     "data": {
      "text/plain": [
       "[]"
      ]
     },
     "execution_count": 69,
     "metadata": {},
     "output_type": "execute_result"
    }
   ],
   "source": [
    "fruits.clear() # its empty out the list\n",
    "fruits"
   ]
  },
  {
   "cell_type": "code",
   "execution_count": 70,
   "id": "c63ea612",
   "metadata": {},
   "outputs": [
    {
     "data": {
      "text/plain": [
       "['Apple', 'Mang', 'Mango', 'Grape', 'Jackfruit']"
      ]
     },
     "execution_count": 70,
     "metadata": {},
     "output_type": "execute_result"
    }
   ],
   "source": [
    "fruits = ['Apple', 'Mang', 'Mango', 'Grape', 'Jackfruit'] # creating a list again\n",
    "fruits"
   ]
  },
  {
   "cell_type": "code",
   "execution_count": 71,
   "id": "94b53bbf",
   "metadata": {},
   "outputs": [
    {
     "data": {
      "text/plain": [
       "['Mang', 'Mango', 'Grape', 'Jackfruit']"
      ]
     },
     "execution_count": 71,
     "metadata": {},
     "output_type": "execute_result"
    }
   ],
   "source": [
    "del fruits[0] # it delete the item from index 0\n",
    "fruits"
   ]
  },
  {
   "cell_type": "code",
   "execution_count": 72,
   "id": "e46f082a",
   "metadata": {},
   "outputs": [],
   "source": [
    "# del fruits # its delete  list completely"
   ]
  },
  {
   "cell_type": "code",
   "execution_count": 73,
   "id": "b6575521",
   "metadata": {},
   "outputs": [
    {
     "data": {
      "text/plain": [
       "['Apple', 'Mang', 'Mango', 'Grape', 'Jackfruit']"
      ]
     },
     "execution_count": 73,
     "metadata": {},
     "output_type": "execute_result"
    }
   ],
   "source": [
    "fruits = ['Apple', 'Mang', 'Mango', 'Grape', 'Jackfruit'] # creating a list again\n",
    "fruits"
   ]
  },
  {
   "cell_type": "markdown",
   "id": "36bfa19a",
   "metadata": {},
   "source": [
    "# Sorting list "
   ]
  },
  {
   "cell_type": "code",
   "execution_count": 74,
   "id": "844ccfb8",
   "metadata": {},
   "outputs": [
    {
     "data": {
      "text/plain": [
       "['Apple', 'Grape', 'Jackfruit', 'Mang', 'Mango']"
      ]
     },
     "execution_count": 74,
     "metadata": {},
     "output_type": "execute_result"
    }
   ],
   "source": [
    "fruits.sort(reverse = False) #  sorting alphabhetically and in ascending order by comparing with ascii value\n",
    "fruits"
   ]
  },
  {
   "cell_type": "code",
   "execution_count": 75,
   "id": "38980f89",
   "metadata": {},
   "outputs": [
    {
     "data": {
      "text/plain": [
       "['Apple', 'Grape', 'Jackfruit', 'Mang', 'Mango']"
      ]
     },
     "execution_count": 75,
     "metadata": {},
     "output_type": "execute_result"
    }
   ],
   "source": [
    "fruits.sort() # in default it use reverse as false\n",
    "fruits"
   ]
  },
  {
   "cell_type": "code",
   "execution_count": 76,
   "id": "7e14b430",
   "metadata": {},
   "outputs": [
    {
     "data": {
      "text/plain": [
       "['Apple', 'Grape', 'Jackfruit', 'Mang', 'Mango']"
      ]
     },
     "execution_count": 76,
     "metadata": {},
     "output_type": "execute_result"
    }
   ],
   "source": [
    "fruits.sort(key = str.lower) # it convert every item into lower to sort\n",
    "fruits"
   ]
  },
  {
   "cell_type": "code",
   "execution_count": 77,
   "id": "c4905f59",
   "metadata": {},
   "outputs": [
    {
     "data": {
      "text/plain": [
       "['Mango', 'Mang', 'Jackfruit', 'Grape', 'Apple']"
      ]
     },
     "execution_count": 77,
     "metadata": {},
     "output_type": "execute_result"
    }
   ],
   "source": [
    "fruits.sort(reverse = True) # sorting in desending order\n",
    "fruits"
   ]
  },
  {
   "cell_type": "code",
   "execution_count": 78,
   "id": "7ce5e96b",
   "metadata": {},
   "outputs": [
    {
     "data": {
      "text/plain": [
       "['Apple', 'Grape', 'Jackfruit', 'Mang', 'Mango']"
      ]
     },
     "execution_count": 78,
     "metadata": {},
     "output_type": "execute_result"
    }
   ],
   "source": [
    "fruits.reverse() # you can reverse the items without using sort method\n",
    "fruits"
   ]
  },
  {
   "cell_type": "markdown",
   "id": "74e15543",
   "metadata": {},
   "source": [
    "# Making copy of list"
   ]
  },
  {
   "cell_type": "code",
   "execution_count": 79,
   "id": "59da6dc3",
   "metadata": {},
   "outputs": [
    {
     "data": {
      "text/plain": [
       "['Apple', 'Grape', 'Jackfruit', 'Mang', 'Mango']"
      ]
     },
     "execution_count": 79,
     "metadata": {},
     "output_type": "execute_result"
    }
   ],
   "source": [
    "copy_of_fruits = fruits.copy() # copying the list\n",
    "copy_of_fruits"
   ]
  },
  {
   "cell_type": "markdown",
   "id": "73b3d524",
   "metadata": {},
   "source": [
    "                      or "
   ]
  },
  {
   "cell_type": "code",
   "execution_count": 80,
   "id": "3b7180e7",
   "metadata": {},
   "outputs": [
    {
     "data": {
      "text/plain": [
       "['Apple', 'Grape', 'Jackfruit', 'Mang', 'Mango']"
      ]
     },
     "execution_count": 80,
     "metadata": {},
     "output_type": "execute_result"
    }
   ],
   "source": [
    "copy_of_fruits1 = list(fruits) # copying the list\n",
    "copy_of_fruits1"
   ]
  },
  {
   "cell_type": "markdown",
   "id": "8c0b3b28",
   "metadata": {},
   "source": [
    "# join list"
   ]
  },
  {
   "cell_type": "code",
   "execution_count": 81,
   "id": "78ad94bd",
   "metadata": {},
   "outputs": [
    {
     "name": "stdout",
     "output_type": "stream",
     "text": [
      "['Apple', 'Grape', 'Jackfruit', 'Mang', 'Mango', 'Apple', 'Grape', 'Jackfruit', 'Mang', 'Mango']\n"
     ]
    }
   ],
   "source": [
    "join_list = copy_of_fruits + fruits # joining to list items\n",
    "print(join_list)"
   ]
  },
  {
   "cell_type": "code",
   "execution_count": 82,
   "id": "a1f8766f",
   "metadata": {},
   "outputs": [
    {
     "name": "stdout",
     "output_type": "stream",
     "text": [
      "['Apple', 'Grape', 'Jackfruit', 'Mang', 'Mango', 'Apple', 'Grape', 'Jackfruit', 'Mang', 'Mango']\n"
     ]
    }
   ],
   "source": [
    "copy_of_fruits.extend(fruits) # it extend the first list by adding items of second list\n",
    "print(copy_of_fruits)"
   ]
  },
  {
   "cell_type": "markdown",
   "id": "3e771c6a",
   "metadata": {},
   "source": [
    "\n",
    "Note : joining using + sign doesnt change both list but using extend method modify first list by adding items \n",
    "                           of the second list to the first list"
   ]
  },
  {
   "cell_type": "markdown",
   "id": "1cd90f37",
   "metadata": {},
   "source": [
    "# Python Conditional"
   ]
  },
  {
   "cell_type": "markdown",
   "id": "1eb818a6",
   "metadata": {},
   "source": [
    "## If statements"
   ]
  },
  {
   "cell_type": "code",
   "execution_count": 83,
   "id": "6e9e3409",
   "metadata": {},
   "outputs": [
    {
     "name": "stdout",
     "output_type": "stream",
     "text": [
      "input your age : 25\n",
      "you are eligible to vote\n"
     ]
    }
   ],
   "source": [
    "x = int(input(\"input your age : \")) # voting eligible if your age is 18 or greater \n",
    "\n",
    "if x >= 18 :\n",
    "    print(\"you are eligible to vote\")\n",
    "else:\n",
    "    print(\"you are not eligible to vote\")"
   ]
  },
  {
   "cell_type": "code",
   "execution_count": 84,
   "id": "128e09d8",
   "metadata": {},
   "outputs": [
    {
     "name": "stdout",
     "output_type": "stream",
     "text": [
      "x is lesser than both 3 and 5\n"
     ]
    }
   ],
   "source": [
    "x = 2\n",
    "if x > 5 :\n",
    "    print(\" x is greater than 5\")\n",
    "elif x > 3:\n",
    "    print(\"x is greater than 3\")\n",
    "else :\n",
    "    print(\"x is lesser than both 3 and 5\")"
   ]
  },
  {
   "cell_type": "markdown",
   "id": "e4613f71",
   "metadata": {},
   "source": [
    "## Short hand if"
   ]
  },
  {
   "cell_type": "markdown",
   "id": "c59e2110",
   "metadata": {},
   "source": [
    "    You can put the if code block in one line as well."
   ]
  },
  {
   "cell_type": "code",
   "execution_count": 85,
   "id": "f848182e",
   "metadata": {},
   "outputs": [
    {
     "name": "stdout",
     "output_type": "stream",
     "text": [
      "x is equall to 3\n"
     ]
    }
   ],
   "source": [
    "x = 3\n",
    "if x == 3 : print('x is equall to 3') "
   ]
  },
  {
   "cell_type": "code",
   "execution_count": 86,
   "id": "2b5c957e",
   "metadata": {},
   "outputs": [
    {
     "name": "stdout",
     "output_type": "stream",
     "text": [
      "x is equall to 2\n"
     ]
    }
   ],
   "source": [
    "x = 2\n",
    "print(\"x is equall to 2\") if x == 2  else print(\"x is not equall to 2\")"
   ]
  },
  {
   "cell_type": "markdown",
   "id": "9321b5ae",
   "metadata": {},
   "source": [
    "# Nested if"
   ]
  },
  {
   "cell_type": "code",
   "execution_count": 87,
   "id": "6300f720",
   "metadata": {},
   "outputs": [
    {
     "name": "stdout",
     "output_type": "stream",
     "text": [
      "x is greater than 10\n",
      "and it is greater than 30 as well !\n"
     ]
    }
   ],
   "source": [
    "x = 35\n",
    "if x > 10: # In nested  second if statement runs only if first if condition is true\n",
    "    print(\"x is greater than 10\")\n",
    "    if x < 30:\n",
    "        print(\"but it is less than 30\")\n",
    "    else:\n",
    "        print(\"and it is greater than 30 as well !\")"
   ]
  },
  {
   "cell_type": "markdown",
   "id": "bfc30d76",
   "metadata": {},
   "source": [
    "# Python loop"
   ]
  },
  {
   "cell_type": "markdown",
   "id": "575f9b10",
   "metadata": {},
   "source": [
    "## While loop"
   ]
  },
  {
   "cell_type": "markdown",
   "id": "de88a040",
   "metadata": {},
   "source": [
    "     In a while loop, the loop runs as long as the condition is true"
   ]
  },
  {
   "cell_type": "code",
   "execution_count": 89,
   "id": "2c85b054",
   "metadata": {},
   "outputs": [
    {
     "name": "stdout",
     "output_type": "stream",
     "text": [
      "0\n",
      "1\n",
      "2\n",
      "3\n",
      "4\n"
     ]
    }
   ],
   "source": [
    "x = 0\n",
    "while x < 5: # it runs as long as condition is true\n",
    "    print(x)\n",
    "    x += 1"
   ]
  },
  {
   "cell_type": "code",
   "execution_count": 90,
   "id": "07b1e014",
   "metadata": {},
   "outputs": [
    {
     "name": "stdout",
     "output_type": "stream",
     "text": [
      "0\n",
      "1\n"
     ]
    }
   ],
   "source": [
    "\n",
    "x = 0\n",
    "while x < 5: # it runs as long as condition is true but break statement breaks\n",
    "    print(x)\n",
    "    x += 1\n",
    "    if x == 2:\n",
    "        break\n"
   ]
  },
  {
   "cell_type": "code",
   "execution_count": 97,
   "id": "a1d95123",
   "metadata": {},
   "outputs": [
    {
     "name": "stdout",
     "output_type": "stream",
     "text": [
      "1\n",
      "2\n",
      "4\n",
      "5\n",
      "6\n",
      "7\n",
      "8\n",
      "9\n",
      "10\n"
     ]
    }
   ],
   "source": [
    "x = 0\n",
    "while x < 10: # it skip 3 and continue\n",
    "    x += 1\n",
    "    if x == 3:\n",
    "        continue\n",
    "    print(x)"
   ]
  },
  {
   "cell_type": "markdown",
   "id": "4a13c409",
   "metadata": {},
   "source": [
    "# for loop"
   ]
  },
  {
   "cell_type": "markdown",
   "id": "bb3fa0d0",
   "metadata": {},
   "source": [
    "      The for loop is something you will be using a lot. It can iterate over a sequence (i.e. list, tuple,\n",
    "      set, dict, string)."
   ]
  },
  {
   "cell_type": "code",
   "execution_count": 95,
   "id": "cb39114f",
   "metadata": {},
   "outputs": [
    {
     "name": "stdout",
     "output_type": "stream",
     "text": [
      "Apple\n",
      "Grape\n",
      "Jackfruit\n",
      "Mang\n",
      "Mango\n"
     ]
    }
   ],
   "source": [
    "for fruit in fruits:\n",
    "    print(fruit)"
   ]
  },
  {
   "cell_type": "code",
   "execution_count": 98,
   "id": "74de4ab3",
   "metadata": {},
   "outputs": [
    {
     "name": "stdout",
     "output_type": "stream",
     "text": [
      "P\n",
      "y\n",
      "t\n",
      "h\n",
      "o\n",
      "n\n"
     ]
    }
   ],
   "source": [
    "for string in \"Python\": # iterating over a string\n",
    "    print(string)"
   ]
  },
  {
   "cell_type": "code",
   "execution_count": 99,
   "id": "7f9e751b",
   "metadata": {},
   "outputs": [
    {
     "name": "stdout",
     "output_type": "stream",
     "text": [
      "Apple\n",
      "Grape\n",
      "Jackfruit\n",
      "Mang\n"
     ]
    }
   ],
   "source": [
    "for fruit in fruits:\n",
    "    print(fruit)\n",
    "    if fruit == \"Mang\":\n",
    "        break"
   ]
  },
  {
   "cell_type": "code",
   "execution_count": 103,
   "id": "14bd5f29",
   "metadata": {},
   "outputs": [
    {
     "name": "stdout",
     "output_type": "stream",
     "text": [
      "Apple\n",
      "Grape\n",
      "Jackfruit\n",
      "Mango\n"
     ]
    }
   ],
   "source": [
    "for fruit in fruits:\n",
    "    if fruit == \"Mang\":\n",
    "        continue\n",
    "    print(fruit)"
   ]
  },
  {
   "cell_type": "code",
   "execution_count": 105,
   "id": "0610ba6b",
   "metadata": {},
   "outputs": [
    {
     "name": "stdout",
     "output_type": "stream",
     "text": [
      "0\n",
      "1\n",
      "2\n",
      "3\n",
      "4\n"
     ]
    }
   ],
   "source": [
    "for i in range(5): # range start from 0 by default and last item is exclusive\n",
    "    print(i)"
   ]
  },
  {
   "cell_type": "code",
   "execution_count": 107,
   "id": "9ab97853",
   "metadata": {},
   "outputs": [
    {
     "name": "stdout",
     "output_type": "stream",
     "text": [
      "0\n",
      "2\n",
      "4\n",
      "6\n",
      "8\n"
     ]
    }
   ],
   "source": [
    "for i in range(0,10,2):\n",
    "    print(i)"
   ]
  },
  {
   "cell_type": "markdown",
   "id": "f6b5085a",
   "metadata": {},
   "source": [
    "# Nested loop"
   ]
  },
  {
   "cell_type": "markdown",
   "id": "82a75f20",
   "metadata": {},
   "source": [
    "    You can put a loop inside a loop, which is called a nested loop."
   ]
  },
  {
   "cell_type": "code",
   "execution_count": 111,
   "id": "4fcaafa4",
   "metadata": {},
   "outputs": [
    {
     "name": "stdout",
     "output_type": "stream",
     "text": [
      "red chair\n",
      "red table\n",
      "red house\n",
      "blue chair\n",
      "blue table\n",
      "blue house\n",
      "green chair\n",
      "green table\n",
      "green house\n"
     ]
    }
   ],
   "source": [
    "colors = [\"red\",\"blue\",\"green\"]\n",
    "objects = [\"chair\",\"table\",\"house\"]\n",
    " \n",
    "for i in colors:\n",
    "    for j in objects:\n",
    "        print(i,j)"
   ]
  },
  {
   "cell_type": "markdown",
   "id": "034cabe3",
   "metadata": {},
   "source": [
    "# Python a Function"
   ]
  },
  {
   "cell_type": "markdown",
   "id": "bbd3195d",
   "metadata": {},
   "source": [
    "    Functions are blocks of code which run only when called. Functions are not executed unless they\n",
    "    are called. Functions most often take some input/s known as parameters and return some output."
   ]
  },
  {
   "cell_type": "code",
   "execution_count": 112,
   "id": "df405698",
   "metadata": {},
   "outputs": [],
   "source": [
    "def add(x,y): # x and y are parameters\n",
    "    return x + y\n"
   ]
  },
  {
   "cell_type": "code",
   "execution_count": 113,
   "id": "62676ae0",
   "metadata": {},
   "outputs": [
    {
     "data": {
      "text/plain": [
       "7"
      ]
     },
     "execution_count": 113,
     "metadata": {},
     "output_type": "execute_result"
    }
   ],
   "source": [
    "add(2,5) # 2 and 5 are arguments"
   ]
  },
  {
   "cell_type": "code",
   "execution_count": 118,
   "id": "59ced017",
   "metadata": {},
   "outputs": [
    {
     "ename": "TypeError",
     "evalue": "add() missing 1 required positional argument: 'y'",
     "output_type": "error",
     "traceback": [
      "\u001b[0;31m---------------------------------------------------------------------------\u001b[0m",
      "\u001b[0;31mTypeError\u001b[0m                                 Traceback (most recent call last)",
      "Cell \u001b[0;32mIn[118], line 1\u001b[0m\n\u001b[0;32m----> 1\u001b[0m add(\u001b[38;5;241m3\u001b[39m)\n",
      "\u001b[0;31mTypeError\u001b[0m: add() missing 1 required positional argument: 'y'"
     ]
    }
   ],
   "source": [
    " add(3) # here add() missing 1 required positional argument: 'y'\n"
   ]
  },
  {
   "cell_type": "code",
   "execution_count": 119,
   "id": "64f7e4a5",
   "metadata": {},
   "outputs": [
    {
     "ename": "TypeError",
     "evalue": "add() takes 2 positional arguments but 3 were given",
     "output_type": "error",
     "traceback": [
      "\u001b[0;31m---------------------------------------------------------------------------\u001b[0m",
      "\u001b[0;31mTypeError\u001b[0m                                 Traceback (most recent call last)",
      "Cell \u001b[0;32mIn[119], line 1\u001b[0m\n\u001b[0;32m----> 1\u001b[0m add(\u001b[38;5;241m2\u001b[39m,\u001b[38;5;241m4\u001b[39m,\u001b[38;5;241m8\u001b[39m)\n",
      "\u001b[0;31mTypeError\u001b[0m: add() takes 2 positional arguments but 3 were given"
     ]
    }
   ],
   "source": [
    " add(2,4,8) #add() takes 2 positional arguments but 3 were given"
   ]
  },
  {
   "cell_type": "markdown",
   "id": "a342d8ab",
   "metadata": {},
   "source": [
    "    Note: Parameters vs. Arguments Parameters are the variables defined inside the parentheses right\n",
    "    after the function name in the function definition. Arguments are the values provided to the\n",
    "    function inside the parentheses right after the function name, when calling the function."
   ]
  },
  {
   "cell_type": "code",
   "execution_count": 120,
   "id": "c03f71f6",
   "metadata": {},
   "outputs": [],
   "source": [
    "def square(x):\n",
    "    return x**2"
   ]
  },
  {
   "cell_type": "code",
   "execution_count": 117,
   "id": "1fa39937",
   "metadata": {},
   "outputs": [
    {
     "data": {
      "text/plain": [
       "25"
      ]
     },
     "execution_count": 117,
     "metadata": {},
     "output_type": "execute_result"
    }
   ],
   "source": [
    "square(5)"
   ]
  },
  {
   "cell_type": "markdown",
   "id": "a3cdd8cc",
   "metadata": {},
   "source": [
    "## Arbitary argument"
   ]
  },
  {
   "cell_type": "markdown",
   "id": "ad72862a",
   "metadata": {},
   "source": [
    "    If you do not know in advance how many arguments will be passed, you can define a function with\n",
    "    arbitrary arguments by adding an * (asterisk) before the parameter name."
   ]
  },
  {
   "cell_type": "code",
   "execution_count": 129,
   "id": "0e5e1595",
   "metadata": {},
   "outputs": [],
   "source": [
    "def add(*nums):\n",
    "    sum = 0\n",
    "    for i in nums:\n",
    "        sum += 1\n",
    "    return sum"
   ]
  },
  {
   "cell_type": "code",
   "execution_count": 130,
   "id": "2cac7df4",
   "metadata": {},
   "outputs": [
    {
     "data": {
      "text/plain": [
       "8"
      ]
     },
     "execution_count": 130,
     "metadata": {},
     "output_type": "execute_result"
    }
   ],
   "source": [
    "add(1,2,3,4,5,8,9,10)"
   ]
  },
  {
   "cell_type": "markdown",
   "id": "a976d383",
   "metadata": {},
   "source": [
    "### Default parameter value"
   ]
  },
  {
   "cell_type": "markdown",
   "id": "b07cc812",
   "metadata": {},
   "source": [
    "    When defining a function, we can provide a default value to parameters. When we call the function\n",
    "    with default parameter value/s, if the argument is not passed for the default parameters, the default\n",
    "    value is used."
   ]
  },
  {
   "cell_type": "code",
   "execution_count": 131,
   "id": "8b4b590c",
   "metadata": {},
   "outputs": [],
   "source": [
    "def multiply(x,y = 5):\n",
    "    return x * y"
   ]
  },
  {
   "cell_type": "code",
   "execution_count": 132,
   "id": "930db633",
   "metadata": {},
   "outputs": [
    {
     "data": {
      "text/plain": [
       "20"
      ]
     },
     "execution_count": 132,
     "metadata": {},
     "output_type": "execute_result"
    }
   ],
   "source": [
    "multiply(4)"
   ]
  },
  {
   "cell_type": "code",
   "execution_count": 134,
   "id": "dd3cf3e5",
   "metadata": {},
   "outputs": [
    {
     "data": {
      "text/plain": [
       "32"
      ]
     },
     "execution_count": 134,
     "metadata": {},
     "output_type": "execute_result"
    }
   ],
   "source": [
    "multiply(4,8)"
   ]
  },
  {
   "cell_type": "markdown",
   "id": "0b382a9e",
   "metadata": {},
   "source": [
    "# Lambda function"
   ]
  },
  {
   "cell_type": "markdown",
   "id": "900fd20b",
   "metadata": {},
   "source": [
    "    Lambda functions are anonymous (without a name) functions. They can take any number of\n",
    "    arguments, but they can have only one expression. The syntax is of the following form: lamdba\n",
    "    arguments : expression"
   ]
  },
  {
   "cell_type": "code",
   "execution_count": 136,
   "id": "51f308db",
   "metadata": {},
   "outputs": [],
   "source": [
    "sum = lambda x, y: x + y"
   ]
  },
  {
   "cell_type": "code",
   "execution_count": 137,
   "id": "4991a82c",
   "metadata": {},
   "outputs": [
    {
     "data": {
      "text/plain": [
       "7"
      ]
     },
     "execution_count": 137,
     "metadata": {},
     "output_type": "execute_result"
    }
   ],
   "source": [
    "sum(2,5)"
   ]
  },
  {
   "cell_type": "markdown",
   "id": "da8564f6",
   "metadata": {},
   "source": [
    "# Python Tuples\n",
    "\n",
    "\n",
    "\n",
    "1. can store multiple values in a single variable\n",
    "2. are enclosed by parentheses ()\n",
    "3. are ordered collection of items and they are immutable (unchangeable)\n",
    "4. allow duplicate values"
   ]
  },
  {
   "cell_type": "code",
   "execution_count": 27,
   "id": "0b61c202",
   "metadata": {},
   "outputs": [
    {
     "data": {
      "text/plain": [
       "('Hi', 'there', 2, 3, 3.3, 4.6)"
      ]
     },
     "execution_count": 27,
     "metadata": {},
     "output_type": "execute_result"
    }
   ],
   "source": [
    "my_tuple = (\"Hi\", \"there\", 2, 3,3.3,4.6)  # example of a tuple\n",
    "my_tuple"
   ]
  },
  {
   "cell_type": "markdown",
   "id": "5d6d2799",
   "metadata": {},
   "source": [
    "     Just like a Python List, Python Tuple items are indexed starting from 0, i.e. the first item in the\n",
    "     tuple has the index 0, the second item has the index 1 and so on"
   ]
  },
  {
   "cell_type": "code",
   "execution_count": 31,
   "id": "79e66505",
   "metadata": {},
   "outputs": [
    {
     "data": {
      "text/plain": [
       "(1, 2, 'Apple', 'Cherry', 'Apple')"
      ]
     },
     "execution_count": 31,
     "metadata": {},
     "output_type": "execute_result"
    }
   ],
   "source": [
    "tuple_1 = (1, 2, \"Apple\", \"Cherry\", \"Apple\")  # duplicate items are allowed in a tuple\n",
    "tuple_1"
   ]
  },
  {
   "cell_type": "code",
   "execution_count": 32,
   "id": "b573951c",
   "metadata": {},
   "outputs": [
    {
     "data": {
      "text/plain": [
       "5"
      ]
     },
     "execution_count": 32,
     "metadata": {},
     "output_type": "execute_result"
    }
   ],
   "source": [
    "len(tuple_1)# length (number of items in tuple)"
   ]
  },
  {
   "cell_type": "code",
   "execution_count": 33,
   "id": "b9bf45e9",
   "metadata": {},
   "outputs": [
    {
     "data": {
      "text/plain": [
       "str"
      ]
     },
     "execution_count": 33,
     "metadata": {},
     "output_type": "execute_result"
    }
   ],
   "source": [
    "tuple_1element = (\"hello\") # without a comma after the element in one-element tuple, you will not get a tuple type\n",
    "type(tuple_1element)"
   ]
  },
  {
   "cell_type": "code",
   "execution_count": 34,
   "id": "186997f4",
   "metadata": {},
   "outputs": [
    {
     "data": {
      "text/plain": [
       "tuple"
      ]
     },
     "execution_count": 34,
     "metadata": {},
     "output_type": "execute_result"
    }
   ],
   "source": [
    " tuple_1element = (\"hello\",) # put a comma after the element in one-element tuple\n",
    "type(tuple_1element)"
   ]
  },
  {
   "cell_type": "code",
   "execution_count": 35,
   "id": "2ecb0200",
   "metadata": {},
   "outputs": [
    {
     "name": "stdout",
     "output_type": "stream",
     "text": [
      "my_tuple[0] =>  Hello\n",
      "my_tuple[-1] => 8.2\n",
      "my_tuple[1:3] => ('world', 1)\n",
      "my_tuple[-3: -1] => ('world', 1)\n",
      "my_tuple[:2] => ('Hello', 'world')\n",
      "my_tuple[2:] => (1, 8.2)\n"
     ]
    }
   ],
   "source": [
    "my_tuple = (\"Hello\", \"world\", 1, 8.2)\n",
    "print(\"my_tuple[0] => \", my_tuple[0]) # prints the first element of the tuple\n",
    "print(\"my_tuple[-1] =>\",my_tuple[-1]) # last element\n",
    "print(\"my_tuple[1:3] =>\",my_tuple[1:3])#elements at index 1 up to index 2 excluding index 3\n",
    "print(\"my_tuple[-3: -1] =>\",my_tuple[-3: -1]) # element at index -3 up to index -2 (excluding -1)\n",
    "print(\"my_tuple[:2] =>\",my_tuple[:2]) # elements from index 0 up to index 1\n",
    "print(\"my_tuple[2:] =>\",my_tuple[2:]) # elements from index 2 to end"
   ]
  },
  {
   "cell_type": "code",
   "execution_count": 38,
   "id": "7b2acb0e",
   "metadata": {},
   "outputs": [],
   "source": [
    "'''You can not add items, update items, or remove items from a tuple.\n",
    "You can delete a tuple with the del keyword.'''\n",
    "del my_tuple"
   ]
  },
  {
   "cell_type": "markdown",
   "id": "e271a43e",
   "metadata": {},
   "source": [
    " ## Unpack Tuples"
   ]
  },
  {
   "cell_type": "code",
   "execution_count": 39,
   "id": "31520f3e",
   "metadata": {},
   "outputs": [
    {
     "name": "stdout",
     "output_type": "stream",
     "text": [
      "Sam\n",
      "Harry\n",
      "Tom\n"
     ]
    }
   ],
   "source": [
    "# Remember to provide as many variables as there are values in the tuple\n",
    "student1, student2, student3 = (\"Santosh\", \"Kiran\", \"Koshal\")\n",
    "print(student1)\n",
    "print(student2)\n",
    "print(student3)"
   ]
  },
  {
   "cell_type": "code",
   "execution_count": 41,
   "id": "105a648b",
   "metadata": {},
   "outputs": [
    {
     "name": "stdout",
     "output_type": "stream",
     "text": [
      "This\n",
      "is\n",
      "great\n"
     ]
    }
   ],
   "source": [
    "my_tuple = (\"This\", \"is\", \"example\") # looping\n",
    "for item in my_tuple:\n",
    "    print(item)"
   ]
  },
  {
   "cell_type": "code",
   "execution_count": 43,
   "id": "6608082a",
   "metadata": {},
   "outputs": [
    {
     "name": "stdout",
     "output_type": "stream",
     "text": [
      "(1, 2, 3, 4, 5, 6)\n",
      "(1, 2, 3, 4, 5, 6, 7, 8, 9)\n"
     ]
    }
   ],
   "source": [
    "tuple_1 = (1,2,3)\n",
    "tuple_2 = (4,5,6)\n",
    "tuple_3 = (7,8,9)\n",
    "print(tuple_1 + tuple_2)            # joining \n",
    "print(tuple_1 + tuple_2 + tuple_3)  # joining"
   ]
  },
  {
   "cell_type": "code",
   "execution_count": 44,
   "id": "ae912716",
   "metadata": {},
   "outputs": [
    {
     "data": {
      "text/plain": [
       "(1, 2, 3, 1, 2, 3, 1, 2, 3)"
      ]
     },
     "execution_count": 44,
     "metadata": {},
     "output_type": "execute_result"
    }
   ],
   "source": [
    "(1,2,3) * 3 # multiplying"
   ]
  },
  {
   "cell_type": "markdown",
   "id": "9cbf613c",
   "metadata": {},
   "source": [
    "  # Python Sets\n",
    "  \n",
    "**Python set can store multiple values in a variable, just like List and Tuple.\n",
    "Python sets are:**\n",
    "1. unordered\n",
    "2. unindexed (as opposed to lists and tuples, which are indexed)\n",
    "3. do not allow duplicates (as opposed to lists and tuples, which allow duplicates)\n",
    "4. immutable (elements can not be changed, removed or updated) - allows adding of new elements\n",
    "5. enclosed by curly braces {}"
   ]
  },
  {
   "cell_type": "code",
   "execution_count": 45,
   "id": "8625594c",
   "metadata": {},
   "outputs": [
    {
     "data": {
      "text/plain": [
       "{2, 5.65, 'Hi', True}"
      ]
     },
     "execution_count": 45,
     "metadata": {},
     "output_type": "execute_result"
    }
   ],
   "source": [
    "# use curly braces {} to define a set\n",
    "my_set = {2, \"Hi\", 5.65, True}\n",
    "my_set"
   ]
  },
  {
   "cell_type": "code",
   "execution_count": 46,
   "id": "045d6da6",
   "metadata": {},
   "outputs": [
    {
     "data": {
      "text/plain": [
       "{1, 2, False, 'Hi', 'there'}"
      ]
     },
     "execution_count": 46,
     "metadata": {},
     "output_type": "execute_result"
    }
   ],
   "source": [
    "# duplicates are not retained\n",
    "set_1 = {1, 2, \"Hi\", \"there\", \"Hi\", False}\n",
    "set_1"
   ]
  },
  {
   "cell_type": "code",
   "execution_count": 47,
   "id": "863753a3",
   "metadata": {},
   "outputs": [
    {
     "data": {
      "text/plain": [
       "5"
      ]
     },
     "execution_count": 47,
     "metadata": {},
     "output_type": "execute_result"
    }
   ],
   "source": [
    "# length (number of items) of a set\n",
    "len(set_1)"
   ]
  },
  {
   "cell_type": "code",
   "execution_count": 49,
   "id": "a9e4cb7d",
   "metadata": {},
   "outputs": [
    {
     "name": "stdout",
     "output_type": "stream",
     "text": [
      "False\n",
      "1\n",
      "2\n",
      "there\n",
      "Hi\n"
     ]
    }
   ],
   "source": [
    "for i in set_1: # loop\n",
    "    print(i)"
   ]
  },
  {
   "cell_type": "code",
   "execution_count": 51,
   "id": "9adb7231",
   "metadata": {},
   "outputs": [
    {
     "data": {
      "text/plain": [
       "True"
      ]
     },
     "execution_count": 51,
     "metadata": {},
     "output_type": "execute_result"
    }
   ],
   "source": [
    " 1 in set_1"
   ]
  },
  {
   "cell_type": "markdown",
   "id": "2c76e987",
   "metadata": {},
   "source": [
    "## Add items to set\n",
    "**You can not change the items already in a set, however, you can add items to the set by using the\n",
    "add() method.**"
   ]
  },
  {
   "cell_type": "code",
   "execution_count": 52,
   "id": "43e856a7",
   "metadata": {},
   "outputs": [
    {
     "data": {
      "text/plain": [
       "{1, 2, 3, 'python'}"
      ]
     },
     "execution_count": 52,
     "metadata": {},
     "output_type": "execute_result"
    }
   ],
   "source": [
    "my_set = {1,2,3}\n",
    "my_set.add(\"python\")\n",
    "my_set"
   ]
  },
  {
   "cell_type": "code",
   "execution_count": 53,
   "id": "e98e6e63",
   "metadata": {},
   "outputs": [
    {
     "data": {
      "text/plain": [
       "{1, 2, 3, 'Hi', 'python', 'there'}"
      ]
     },
     "execution_count": 53,
     "metadata": {},
     "output_type": "execute_result"
    }
   ],
   "source": [
    "your_set = {\"Hi\", \"Hello\"} #You can add items from another set by using the update() method\n",
    "my_set.update(your_set)\n",
    "my_set"
   ]
  },
  {
   "cell_type": "markdown",
   "id": "686702d5",
   "metadata": {},
   "source": [
    "# Python Dictionary"
   ]
  },
  {
   "cell_type": "markdown",
   "id": "bc6af66b",
   "metadata": {},
   "source": [
    "**Python dictionary stores data in the form of key, value pairs (key:value) separated by commas and\n",
    "the pairs are enclosed by curly braces.**"
   ]
  },
  {
   "cell_type": "code",
   "execution_count": 55,
   "id": "8b2d79c1",
   "metadata": {},
   "outputs": [
    {
     "data": {
      "text/plain": [
       "{'Kathmandu': 3.5, 'Pokhara': 7, 'Butwal': 6}"
      ]
     },
     "execution_count": 55,
     "metadata": {},
     "output_type": "execute_result"
    }
   ],
   "source": [
    "city_pop = {\n",
    "\"Kathmandu\": 3.5,\n",
    "\"Pokhara\": 7,\n",
    "\"Butwal\": 6\n",
    "}\n",
    "city_pop"
   ]
  },
  {
   "cell_type": "code",
   "execution_count": null,
   "id": "8bcf43a0",
   "metadata": {},
   "outputs": [],
   "source": [
    "city_pop[\"butwal\"]"
   ]
  }
 ],
 "metadata": {
  "kernelspec": {
   "display_name": "Python 3 (ipykernel)",
   "language": "python",
   "name": "python3"
  },
  "language_info": {
   "codemirror_mode": {
    "name": "ipython",
    "version": 3
   },
   "file_extension": ".py",
   "mimetype": "text/x-python",
   "name": "python",
   "nbconvert_exporter": "python",
   "pygments_lexer": "ipython3",
   "version": "3.11.5"
  }
 },
 "nbformat": 4,
 "nbformat_minor": 5
}
